{
 "cells": [
  {
   "cell_type": "markdown",
   "metadata": {},
   "source": [
    "# Projeto Analytics V1"
   ]
  },
  {
   "cell_type": "markdown",
   "metadata": {},
   "source": [
    "### Importação de objetos"
   ]
  },
  {
   "cell_type": "code",
   "execution_count": 19,
   "metadata": {},
   "outputs": [
    {
     "data": {
      "text/html": [
       "\n",
       "            <div>\n",
       "                <p><b>SparkSession - in-memory</b></p>\n",
       "                \n",
       "        <div>\n",
       "            <p><b>SparkContext</b></p>\n",
       "\n",
       "            <p><a href=\"http://192.168.0.136:4040\">Spark UI</a></p>\n",
       "\n",
       "            <dl>\n",
       "              <dt>Version</dt>\n",
       "                <dd><code>v3.2.1</code></dd>\n",
       "              <dt>Master</dt>\n",
       "                <dd><code>local[*]</code></dd>\n",
       "              <dt>AppName</dt>\n",
       "                <dd><code>analise-imoveis-v1</code></dd>\n",
       "            </dl>\n",
       "        </div>\n",
       "        \n",
       "            </div>\n",
       "        "
      ],
      "text/plain": [
       "<pyspark.sql.session.SparkSession at 0x7f89d6dc6b00>"
      ]
     },
     "execution_count": 19,
     "metadata": {},
     "output_type": "execute_result"
    }
   ],
   "source": [
    "from pyspark.sql import SparkSession\n",
    "\n",
    "spark = (\n",
    "    SparkSession\n",
    "    .builder\n",
    "    .appName('analise-imoveis-v1')\n",
    "    .getOrCreate()\n",
    ")\n",
    "spark"
   ]
  },
  {
   "cell_type": "markdown",
   "metadata": {},
   "source": [
    "### Configurações"
   ]
  },
  {
   "cell_type": "code",
   "execution_count": 2,
   "metadata": {},
   "outputs": [],
   "source": [
    "spark.conf.set('spark.sql.repl.eagerEval.enabled', True)"
   ]
  },
  {
   "cell_type": "markdown",
   "metadata": {},
   "source": [
    "# Analisando os dados"
   ]
  },
  {
   "cell_type": "markdown",
   "metadata": {},
   "source": [
    "### Carregando os dados | source json"
   ]
  },
  {
   "cell_type": "code",
   "execution_count": 3,
   "metadata": {},
   "outputs": [
    {
     "name": "stderr",
     "output_type": "stream",
     "text": [
      "                                                                                \r"
     ]
    }
   ],
   "source": [
    "\n",
    "df_imoveis = (\n",
    "    spark.read.format('json')\n",
    "    .load('data/source-4-ds-train.json')\n",
    ")"
   ]
  },
  {
   "cell_type": "markdown",
   "metadata": {},
   "source": [
    "### Numero de linhas e colunas"
   ]
  },
  {
   "cell_type": "code",
   "execution_count": 4,
   "metadata": {},
   "outputs": [
    {
     "name": "stderr",
     "output_type": "stream",
     "text": [
      "[Stage 1:=============================>                             (2 + 2) / 4]\r"
     ]
    },
    {
     "name": "stdout",
     "output_type": "stream",
     "text": [
      "(133964, 19)\n"
     ]
    },
    {
     "name": "stderr",
     "output_type": "stream",
     "text": [
      "                                                                                \r"
     ]
    }
   ],
   "source": [
    "print((df_imoveis.count(), len(df_imoveis.columns)))"
   ]
  },
  {
   "cell_type": "markdown",
   "metadata": {},
   "source": [
    "### Checando o schema"
   ]
  },
  {
   "cell_type": "code",
   "execution_count": 5,
   "metadata": {},
   "outputs": [
    {
     "name": "stdout",
     "output_type": "stream",
     "text": [
      "root\n",
      " |-- address: struct (nullable = true)\n",
      " |    |-- city: string (nullable = true)\n",
      " |    |-- country: string (nullable = true)\n",
      " |    |-- district: string (nullable = true)\n",
      " |    |-- geoLocation: struct (nullable = true)\n",
      " |    |    |-- location: struct (nullable = true)\n",
      " |    |    |    |-- lat: double (nullable = true)\n",
      " |    |    |    |-- lon: double (nullable = true)\n",
      " |    |    |-- precision: string (nullable = true)\n",
      " |    |-- locationId: string (nullable = true)\n",
      " |    |-- neighborhood: string (nullable = true)\n",
      " |    |-- state: string (nullable = true)\n",
      " |    |-- street: string (nullable = true)\n",
      " |    |-- streetNumber: string (nullable = true)\n",
      " |    |-- unitNumber: string (nullable = true)\n",
      " |    |-- zipCode: string (nullable = true)\n",
      " |    |-- zone: string (nullable = true)\n",
      " |-- bathrooms: long (nullable = true)\n",
      " |-- bedrooms: long (nullable = true)\n",
      " |-- createdAt: string (nullable = true)\n",
      " |-- description: string (nullable = true)\n",
      " |-- id: string (nullable = true)\n",
      " |-- images: array (nullable = true)\n",
      " |    |-- element: string (containsNull = true)\n",
      " |-- listingStatus: string (nullable = true)\n",
      " |-- owner: boolean (nullable = true)\n",
      " |-- parkingSpaces: long (nullable = true)\n",
      " |-- pricingInfos: struct (nullable = true)\n",
      " |    |-- businessType: string (nullable = true)\n",
      " |    |-- monthlyCondoFee: long (nullable = true)\n",
      " |    |-- period: string (nullable = true)\n",
      " |    |-- price: long (nullable = true)\n",
      " |    |-- rentalTotalPrice: long (nullable = true)\n",
      " |    |-- yearlyIptu: long (nullable = true)\n",
      " |-- publicationType: string (nullable = true)\n",
      " |-- publisherId: string (nullable = true)\n",
      " |-- suites: long (nullable = true)\n",
      " |-- title: string (nullable = true)\n",
      " |-- totalAreas: long (nullable = true)\n",
      " |-- unitTypes: string (nullable = true)\n",
      " |-- updatedAt: string (nullable = true)\n",
      " |-- usableAreas: long (nullable = true)\n",
      "\n"
     ]
    }
   ],
   "source": [
    "df_imoveis.printSchema()"
   ]
  },
  {
   "cell_type": "markdown",
   "metadata": {},
   "source": [
    "### Selecionando todas colunas | 10 linhas apenas"
   ]
  },
  {
   "cell_type": "code",
   "execution_count": 21,
   "metadata": {},
   "outputs": [
    {
     "name": "stdout",
     "output_type": "stream",
     "text": [
      "+--------------------+---------+--------+--------------------+--------------------+----------+--------------------+-------------+-----+-------------+--------------------+---------------+-----------+------+--------------------+----------+--------------------+--------------------+-----------+\n",
      "|             address|bathrooms|bedrooms|           createdAt|         description|        id|              images|listingStatus|owner|parkingSpaces|        pricingInfos|publicationType|publisherId|suites|               title|totalAreas|           unitTypes|           updatedAt|usableAreas|\n",
      "+--------------------+---------+--------+--------------------+--------------------+----------+--------------------+-------------+-----+-------------+--------------------+---------------+-----------+------+--------------------+----------+--------------------+--------------------+-----------+\n",
      "|{São Paulo, BR, ,...|        3|       4|2017-02-07T13:21:40Z|04 dorms sendo 01...|787c7bd19d|[https://s3-sa-ea...|       ACTIVE|false|            6|{SALE, null, null...|       STANDARD| f4603b2b52|     1|PRÓXIMO A AVENIDA...|       388|     TWO_STORY_HOUSE|2018-12-06T19:27:...|        388|\n",
      "|{São Paulo, BR, ,...|        2|       3|2016-03-21T18:35:17Z|03 dorms sendo 01...|4d68c0cdbe|[https://s3-sa-ea...|       ACTIVE|false|            2|{SALE, null, null...|       STANDARD| f4603b2b52|     1|PRÓXIMO A FACULDA...|       129|                HOME|2018-12-12T13:17:...|        129|\n",
      "|{São Paulo, , , {...|        4|       0|2018-12-18T23:47:...|Andar com 395,70m...|e7e0b554ac|[http://static.ni...|       ACTIVE|false|            5|{RENTAL, 4900, MO...|       STANDARD| 501f6d5e94|     0|Excelente Conjunt...|      null| COMMERCIAL_PROPERTY|                null|        396|\n",
      "|{São Paulo, , , {...|        2|       3|2018-10-26T16:18:...|Viva melhor e de ...|6654d93423|[https://vr-prod-...|       ACTIVE|false|            2|{SALE, 686, null,...|       STANDARD| 527c7b0cc0|     1|Apartamento com 8...|        80|           APARTMENT|2018-11-08T16:38:...|         80|\n",
      "|{São Paulo, , , {...|        5|       4|2018-12-14T18:06:...|Sua área é ocupad...|9ffaf676ae|[https://vr-prod-...|       ACTIVE|false|            5|{SALE, 6230, null...|       STANDARD| 527c7b0cc0|     4|Apartamento 332m²...|       332|           APARTMENT|2018-12-14T18:06:...|       3322|\n",
      "|{São Paulo, BR, ,...|        0|       1|2018-10-09T06:37:...|O Moema Comfort R...|4d96835e38|[http://static.ni...|       ACTIVE|false|            1|{RENTAL, 560, MON...|        PREMIUM| ca5d5b66fe|     1|Flat em Moema par...|        45|                FLAT|2018-12-14T07:33:...|         45|\n",
      "|{São Paulo, , , {...|        1|       3|2018-05-29T18:11:...|Apartamento em ót...|f03e22422a|[https://vr-prod-...|       ACTIVE|false|            2|{SALE, 1120, null...|       STANDARD| eab052c04f|     0|APARTAMENTO EM PI...|         0|           APARTMENT|2018-11-08T12:57:...|         94|\n",
      "|{São Paulo, , , {...|        1|       3|2018-04-16T15:28:...|3 DORMITÓRIOS, (S...|aad80ae86e|[http://www.nogue...|       ACTIVE|false|            2|{SALE, 0, null, 3...|       STANDARD| 3ac7c1f85f|     1|        Oportunidade|        92|         CONDOMINIUM|2019-01-02T13:39:...|        110|\n",
      "|{São Paulo, , , {...|        2|       0|2018-06-26T16:09:...|PREDIO COMERCIAL ...|7749de07b3|[https://vr-prod-...|       ACTIVE|false|           20|{SALE, 0, null, 1...|       STANDARD| dda60c7666|     0|OTIMO PREDIO COME...|         0|SHED_DEPOSIT_WARE...|2018-11-08T12:54:...|        590|\n",
      "|{São Paulo, , , {...|        4|       4|2019-01-09T18:40:...|O apartamento tem...|8e1922c386|[https://vr-prod-...|       ACTIVE|false|            2|{SALE, 0, null, 1...|        PREMIUM| a9891875dd|     3|Apartamento para ...|       141|           APARTMENT|2019-01-09T18:48:...|        141|\n",
      "+--------------------+---------+--------+--------------------+--------------------+----------+--------------------+-------------+-----+-------------+--------------------+---------------+-----------+------+--------------------+----------+--------------------+--------------------+-----------+\n",
      "only showing top 10 rows\n",
      "\n"
     ]
    }
   ],
   "source": [
    "df_imoveis.show(10)"
   ]
  },
  {
   "cell_type": "code",
   "execution_count": 7,
   "metadata": {},
   "outputs": [
    {
     "data": {
      "text/plain": [
       "['address',\n",
       " 'bathrooms',\n",
       " 'bedrooms',\n",
       " 'createdAt',\n",
       " 'description',\n",
       " 'id',\n",
       " 'images',\n",
       " 'listingStatus',\n",
       " 'owner',\n",
       " 'parkingSpaces',\n",
       " 'pricingInfos',\n",
       " 'publicationType',\n",
       " 'publisherId',\n",
       " 'suites',\n",
       " 'title',\n",
       " 'totalAreas',\n",
       " 'unitTypes',\n",
       " 'updatedAt',\n",
       " 'usableAreas']"
      ]
     },
     "execution_count": 7,
     "metadata": {},
     "output_type": "execute_result"
    }
   ],
   "source": [
    "df_imoveis.columns"
   ]
  },
  {
   "cell_type": "markdown",
   "metadata": {},
   "source": [
    "### Selecionando colunas e analisando amostragem de 10 linhas"
   ]
  },
  {
   "cell_type": "code",
   "execution_count": 8,
   "metadata": {},
   "outputs": [
    {
     "data": {
      "text/html": [
       "<table border='1'>\n",
       "<tr><th>country</th><th>city</th><th>neighborhood</th><th>state</th><th>street</th><th>zone</th><th>bathrooms</th><th>bedrooms</th><th>description</th><th>listingStatus</th><th>owner</th><th>parkingSpaces</th><th>businessType</th><th>monthlyCondoFee</th><th>period</th><th>price</th><th>rentalTotalPrice</th><th>yearlyIptu</th><th>publicationType</th><th>suites</th><th>title</th><th>totalAreas</th><th>unitTypes</th><th>usableAreas</th></tr>\n",
       "<tr><td>BR</td><td>São Paulo</td><td>Jardim da Saúde</td><td>São Paulo</td><td>Rua Juvenal Galeno</td><td>Zona Sul</td><td>3</td><td>4</td><td>04 dorms sendo 01...</td><td>ACTIVE</td><td>false</td><td>6</td><td>SALE</td><td>null</td><td>null</td><td>700000</td><td>null</td><td>null</td><td>STANDARD</td><td>1</td><td>PRÓXIMO A AVENIDA...</td><td>388</td><td>TWO_STORY_HOUSE</td><td>388</td></tr>\n",
       "<tr><td>BR</td><td>São Paulo</td><td>Vila Santa Teresa...</td><td>São Paulo</td><td>Rua Juruaba</td><td>Zona Sul</td><td>2</td><td>3</td><td>03 dorms sendo 01...</td><td>ACTIVE</td><td>false</td><td>2</td><td>SALE</td><td>null</td><td>null</td><td>336000</td><td>null</td><td>null</td><td>STANDARD</td><td>1</td><td>PRÓXIMO A FACULDA...</td><td>129</td><td>HOME</td><td>129</td></tr>\n",
       "<tr><td></td><td>São Paulo</td><td>Bela Vista</td><td>São Paulo</td><td>Avenida Paulista</td><td></td><td>4</td><td>0</td><td>Andar com 395,70m...</td><td>ACTIVE</td><td>false</td><td>5</td><td>RENTAL</td><td>4900</td><td>MONTHLY</td><td>24929</td><td>29829</td><td>4040</td><td>STANDARD</td><td>0</td><td>Excelente Conjunt...</td><td>null</td><td>COMMERCIAL_PROPERTY</td><td>396</td></tr>\n",
       "<tr><td></td><td>São Paulo</td><td>Vila Olímpia</td><td>São Paulo</td><td>Rua Alvorada</td><td></td><td>2</td><td>3</td><td>Viva melhor e de ...</td><td>ACTIVE</td><td>false</td><td>2</td><td>SALE</td><td>686</td><td>null</td><td>739643</td><td>null</td><td>1610</td><td>STANDARD</td><td>1</td><td>Apartamento com 8...</td><td>80</td><td>APARTMENT</td><td>80</td></tr>\n",
       "<tr><td></td><td>São Paulo</td><td>Paraíso</td><td>São Paulo</td><td>Rua Curitiba</td><td></td><td>5</td><td>4</td><td>Sua área é ocupad...</td><td>ACTIVE</td><td>false</td><td>5</td><td>SALE</td><td>6230</td><td>null</td><td>7520099</td><td>null</td><td>18900</td><td>STANDARD</td><td>4</td><td>Apartamento 332m²...</td><td>332</td><td>APARTMENT</td><td>3322</td></tr>\n",
       "<tr><td>BR</td><td>São Paulo</td><td>Vila Uberabinha</td><td>São Paulo</td><td>Rua Pintassilgo</td><td>Zona Sul</td><td>0</td><td>1</td><td>O Moema Comfort R...</td><td>ACTIVE</td><td>false</td><td>1</td><td>RENTAL</td><td>560</td><td>MONTHLY</td><td>1889</td><td>2450</td><td>87</td><td>PREMIUM</td><td>1</td><td>Flat em Moema par...</td><td>45</td><td>FLAT</td><td>45</td></tr>\n",
       "<tr><td></td><td>São Paulo</td><td>Pinheiros</td><td>São Paulo</td><td>Rua Mateus Grou</td><td></td><td>1</td><td>3</td><td>Apartamento em ót...</td><td>ACTIVE</td><td>false</td><td>2</td><td>SALE</td><td>1120</td><td>null</td><td>630700</td><td>null</td><td>489</td><td>STANDARD</td><td>0</td><td>APARTAMENTO EM PI...</td><td>0</td><td>APARTMENT</td><td>94</td></tr>\n",
       "<tr><td></td><td>São Paulo</td><td>Vila Santa Clara</td><td>São Paulo</td><td>Rua Dona Luísa de...</td><td></td><td>1</td><td>3</td><td>3 DORMITÓRIOS, (S...</td><td>ACTIVE</td><td>false</td><td>2</td><td>SALE</td><td>0</td><td>null</td><td>385000</td><td>null</td><td>0</td><td>STANDARD</td><td>1</td><td>Oportunidade</td><td>92</td><td>CONDOMINIUM</td><td>110</td></tr>\n",
       "<tr><td></td><td>São Paulo</td><td>Vila Formosa</td><td>São Paulo</td><td>Rua Oswaldo Arouca</td><td></td><td>2</td><td>0</td><td>PREDIO COMERCIAL ...</td><td>ACTIVE</td><td>false</td><td>20</td><td>SALE</td><td>0</td><td>null</td><td>1400000</td><td>null</td><td>5600</td><td>STANDARD</td><td>0</td><td>OTIMO PREDIO COME...</td><td>0</td><td>SHED_DEPOSIT_WARE...</td><td>590</td></tr>\n",
       "<tr><td></td><td>São Paulo</td><td>Aclimação</td><td>São Paulo</td><td>Rua Almeida Torres</td><td></td><td>4</td><td>4</td><td>O apartamento tem...</td><td>ACTIVE</td><td>false</td><td>2</td><td>SALE</td><td>0</td><td>null</td><td>1106000</td><td>null</td><td>0</td><td>PREMIUM</td><td>3</td><td>Apartamento para ...</td><td>141</td><td>APARTMENT</td><td>141</td></tr>\n",
       "</table>\n"
      ],
      "text/plain": [
       "+-------+---------+--------------------+---------+--------------------+--------+---------+--------+--------------------+-------------+-----+-------------+------------+---------------+-------+-------+----------------+----------+---------------+------+--------------------+----------+--------------------+-----------+\n",
       "|country|     city|        neighborhood|    state|              street|    zone|bathrooms|bedrooms|         description|listingStatus|owner|parkingSpaces|businessType|monthlyCondoFee| period|  price|rentalTotalPrice|yearlyIptu|publicationType|suites|               title|totalAreas|           unitTypes|usableAreas|\n",
       "+-------+---------+--------------------+---------+--------------------+--------+---------+--------+--------------------+-------------+-----+-------------+------------+---------------+-------+-------+----------------+----------+---------------+------+--------------------+----------+--------------------+-----------+\n",
       "|     BR|São Paulo|     Jardim da Saúde|São Paulo|  Rua Juvenal Galeno|Zona Sul|        3|       4|04 dorms sendo 01...|       ACTIVE|false|            6|        SALE|           null|   null| 700000|            null|      null|       STANDARD|     1|PRÓXIMO A AVENIDA...|       388|     TWO_STORY_HOUSE|        388|\n",
       "|     BR|São Paulo|Vila Santa Teresa...|São Paulo|         Rua Juruaba|Zona Sul|        2|       3|03 dorms sendo 01...|       ACTIVE|false|            2|        SALE|           null|   null| 336000|            null|      null|       STANDARD|     1|PRÓXIMO A FACULDA...|       129|                HOME|        129|\n",
       "|       |São Paulo|          Bela Vista|São Paulo|    Avenida Paulista|        |        4|       0|Andar com 395,70m...|       ACTIVE|false|            5|      RENTAL|           4900|MONTHLY|  24929|           29829|      4040|       STANDARD|     0|Excelente Conjunt...|      null| COMMERCIAL_PROPERTY|        396|\n",
       "|       |São Paulo|        Vila Olímpia|São Paulo|        Rua Alvorada|        |        2|       3|Viva melhor e de ...|       ACTIVE|false|            2|        SALE|            686|   null| 739643|            null|      1610|       STANDARD|     1|Apartamento com 8...|        80|           APARTMENT|         80|\n",
       "|       |São Paulo|             Paraíso|São Paulo|        Rua Curitiba|        |        5|       4|Sua área é ocupad...|       ACTIVE|false|            5|        SALE|           6230|   null|7520099|            null|     18900|       STANDARD|     4|Apartamento 332m²...|       332|           APARTMENT|       3322|\n",
       "|     BR|São Paulo|     Vila Uberabinha|São Paulo|     Rua Pintassilgo|Zona Sul|        0|       1|O Moema Comfort R...|       ACTIVE|false|            1|      RENTAL|            560|MONTHLY|   1889|            2450|        87|        PREMIUM|     1|Flat em Moema par...|        45|                FLAT|         45|\n",
       "|       |São Paulo|           Pinheiros|São Paulo|     Rua Mateus Grou|        |        1|       3|Apartamento em ót...|       ACTIVE|false|            2|        SALE|           1120|   null| 630700|            null|       489|       STANDARD|     0|APARTAMENTO EM PI...|         0|           APARTMENT|         94|\n",
       "|       |São Paulo|    Vila Santa Clara|São Paulo|Rua Dona Luísa de...|        |        1|       3|3 DORMITÓRIOS, (S...|       ACTIVE|false|            2|        SALE|              0|   null| 385000|            null|         0|       STANDARD|     1|        Oportunidade|        92|         CONDOMINIUM|        110|\n",
       "|       |São Paulo|        Vila Formosa|São Paulo|  Rua Oswaldo Arouca|        |        2|       0|PREDIO COMERCIAL ...|       ACTIVE|false|           20|        SALE|              0|   null|1400000|            null|      5600|       STANDARD|     0|OTIMO PREDIO COME...|         0|SHED_DEPOSIT_WARE...|        590|\n",
       "|       |São Paulo|           Aclimação|São Paulo|  Rua Almeida Torres|        |        4|       4|O apartamento tem...|       ACTIVE|false|            2|        SALE|              0|   null|1106000|            null|         0|        PREMIUM|     3|Apartamento para ...|       141|           APARTMENT|        141|\n",
       "+-------+---------+--------------------+---------+--------------------+--------+---------+--------+--------------------+-------------+-----+-------------+------------+---------------+-------+-------+----------------+----------+---------------+------+--------------------+----------+--------------------+-----------+"
      ]
     },
     "execution_count": 8,
     "metadata": {},
     "output_type": "execute_result"
    }
   ],
   "source": [
    "cols = [\n",
    "         'address.country', 'address.city', 'address.neighborhood', 'address.state', 'address.street', 'address.zone', \n",
    "         'bathrooms', 'bedrooms', 'description', 'listingStatus', 'owner', 'parkingSpaces', 'pricingInfos.businessType',\n",
    "         'pricingInfos.monthlyCondoFee','pricingInfos.period', 'pricingInfos.price', 'pricingInfos.rentalTotalPrice', 'pricingInfos.yearlyIptu',\n",
    "         'publicationType', 'suites', 'title', 'totalAreas', 'unitTypes', 'usableAreas'\n",
    "       ]\n",
    "\n",
    "df_imoveis.select(cols).limit(10)"
   ]
  },
  {
   "cell_type": "markdown",
   "metadata": {},
   "source": [
    "### Buscando dados distintos | método distinct()"
   ]
  },
  {
   "cell_type": "code",
   "execution_count": 9,
   "metadata": {},
   "outputs": [
    {
     "name": "stderr",
     "output_type": "stream",
     "text": [
      "                                                                                \r"
     ]
    },
    {
     "data": {
      "text/html": [
       "<table border='1'>\n",
       "<tr><th>neighborhood</th></tr>\n",
       "<tr><td>Jardim Coimbra</td></tr>\n",
       "<tr><td>Jardim Jussara</td></tr>\n",
       "<tr><td>Jardim Fonte do M...</td></tr>\n",
       "<tr><td>Vila Mendes</td></tr>\n",
       "<tr><td>Vila Beatriz</td></tr>\n",
       "<tr><td>Jardim Satélite</td></tr>\n",
       "<tr><td>Colonia - Zona Leste</td></tr>\n",
       "<tr><td>Vila Antonieta</td></tr>\n",
       "<tr><td>Vila Guilherme</td></tr>\n",
       "<tr><td>Vila Palmeiras</td></tr>\n",
       "<tr><td>Água Rasa</td></tr>\n",
       "<tr><td>Jardim Ideal</td></tr>\n",
       "<tr><td>Parque Boa Esperança</td></tr>\n",
       "<tr><td>Jardim Nadir</td></tr>\n",
       "<tr><td>Vila Almeida</td></tr>\n",
       "<tr><td>Vila Miriam</td></tr>\n",
       "<tr><td>Fazenda Aricanduva</td></tr>\n",
       "<tr><td>São Miguel Paulista</td></tr>\n",
       "<tr><td>Jardim Panorama d...</td></tr>\n",
       "<tr><td>Vila Olímpia</td></tr>\n",
       "</table>\n",
       "only showing top 20 rows\n"
      ],
      "text/plain": [
       "+--------------------+\n",
       "|        neighborhood|\n",
       "+--------------------+\n",
       "|      Jardim Coimbra|\n",
       "|      Jardim Jussara|\n",
       "|Jardim Fonte do M...|\n",
       "|         Vila Mendes|\n",
       "|        Vila Beatriz|\n",
       "|     Jardim Satélite|\n",
       "|Colonia - Zona Leste|\n",
       "|      Vila Antonieta|\n",
       "|      Vila Guilherme|\n",
       "|      Vila Palmeiras|\n",
       "|           Água Rasa|\n",
       "|        Jardim Ideal|\n",
       "|Parque Boa Esperança|\n",
       "|        Jardim Nadir|\n",
       "|        Vila Almeida|\n",
       "|         Vila Miriam|\n",
       "|  Fazenda Aricanduva|\n",
       "| São Miguel Paulista|\n",
       "|Jardim Panorama d...|\n",
       "|        Vila Olímpia|\n",
       "+--------------------+\n",
       "only showing top 20 rows"
      ]
     },
     "execution_count": 9,
     "metadata": {},
     "output_type": "execute_result"
    }
   ],
   "source": [
    "df_imoveis.select('address.neighborhood').distinct()"
   ]
  },
  {
   "cell_type": "markdown",
   "metadata": {},
   "source": [
    "### Contando dados agrupados e contando | método groupby() e count()"
   ]
  },
  {
   "cell_type": "code",
   "execution_count": 10,
   "metadata": {},
   "outputs": [
    {
     "name": "stderr",
     "output_type": "stream",
     "text": [
      "                                                                                \r"
     ]
    },
    {
     "data": {
      "text/html": [
       "<table border='1'>\n",
       "<tr><th>neighborhood</th><th>count</th></tr>\n",
       "<tr><td>Jardim Coimbra</td><td>2</td></tr>\n",
       "<tr><td>Jardim Jussara</td><td>28</td></tr>\n",
       "<tr><td>Jardim Fonte do M...</td><td>63</td></tr>\n",
       "<tr><td>Vila Mendes</td><td>42</td></tr>\n",
       "<tr><td>Vila Beatriz</td><td>29</td></tr>\n",
       "<tr><td>Jardim Satélite</td><td>4</td></tr>\n",
       "<tr><td>Colonia - Zona Leste</td><td>3</td></tr>\n",
       "<tr><td>Vila Antonieta</td><td>168</td></tr>\n",
       "<tr><td>Vila Guilherme</td><td>378</td></tr>\n",
       "<tr><td>Vila Palmeiras</td><td>128</td></tr>\n",
       "<tr><td>Água Rasa</td><td>493</td></tr>\n",
       "<tr><td>Jardim Ideal</td><td>3</td></tr>\n",
       "<tr><td>Parque Boa Esperança</td><td>1</td></tr>\n",
       "<tr><td>Jardim Nadir</td><td>3</td></tr>\n",
       "<tr><td>Vila Almeida</td><td>12</td></tr>\n",
       "<tr><td>Vila Miriam</td><td>41</td></tr>\n",
       "<tr><td>Fazenda Aricanduva</td><td>18</td></tr>\n",
       "<tr><td>São Miguel Paulista</td><td>25</td></tr>\n",
       "<tr><td>Jardim Panorama d...</td><td>6</td></tr>\n",
       "<tr><td>Vila Olímpia</td><td>1885</td></tr>\n",
       "</table>\n",
       "only showing top 20 rows\n"
      ],
      "text/plain": [
       "+--------------------+-----+\n",
       "|        neighborhood|count|\n",
       "+--------------------+-----+\n",
       "|      Jardim Coimbra|    2|\n",
       "|      Jardim Jussara|   28|\n",
       "|Jardim Fonte do M...|   63|\n",
       "|         Vila Mendes|   42|\n",
       "|        Vila Beatriz|   29|\n",
       "|     Jardim Satélite|    4|\n",
       "|Colonia - Zona Leste|    3|\n",
       "|      Vila Antonieta|  168|\n",
       "|      Vila Guilherme|  378|\n",
       "|      Vila Palmeiras|  128|\n",
       "|           Água Rasa|  493|\n",
       "|        Jardim Ideal|    3|\n",
       "|Parque Boa Esperança|    1|\n",
       "|        Jardim Nadir|    3|\n",
       "|        Vila Almeida|   12|\n",
       "|         Vila Miriam|   41|\n",
       "|  Fazenda Aricanduva|   18|\n",
       "| São Miguel Paulista|   25|\n",
       "|Jardim Panorama d...|    6|\n",
       "|        Vila Olímpia| 1885|\n",
       "+--------------------+-----+\n",
       "only showing top 20 rows"
      ]
     },
     "execution_count": 10,
     "metadata": {},
     "output_type": "execute_result"
    }
   ],
   "source": [
    "df_imoveis.groupBy('address.neighborhood').count()"
   ]
  },
  {
   "cell_type": "code",
   "execution_count": 11,
   "metadata": {},
   "outputs": [
    {
     "name": "stderr",
     "output_type": "stream",
     "text": [
      "                                                                                \r"
     ]
    },
    {
     "data": {
      "text/html": [
       "<table border='1'>\n",
       "<tr><th>unitTypes</th><th>count</th></tr>\n",
       "<tr><td>FARM</td><td>10</td></tr>\n",
       "<tr><td>RESIDENTIAL_ALLOT...</td><td>1430</td></tr>\n",
       "<tr><td>SHED_DEPOSIT_WARE...</td><td>2197</td></tr>\n",
       "<tr><td>HOME</td><td>9030</td></tr>\n",
       "<tr><td>PENTHOUSE</td><td>2772</td></tr>\n",
       "<tr><td>TWO_STORY_HOUSE</td><td>18068</td></tr>\n",
       "<tr><td>BUSINESS</td><td>663</td></tr>\n",
       "<tr><td>STORE</td><td>694</td></tr>\n",
       "<tr><td>RESIDENTIAL_BUILDING</td><td>142</td></tr>\n",
       "<tr><td>FLAT</td><td>7661</td></tr>\n",
       "<tr><td>COMMERCIAL_ALLOTM...</td><td>807</td></tr>\n",
       "<tr><td>OFFICE</td><td>7714</td></tr>\n",
       "<tr><td>KITNET</td><td>522</td></tr>\n",
       "<tr><td>APARTMENT</td><td>72241</td></tr>\n",
       "<tr><td>COMMERCIAL_BUILDING</td><td>85</td></tr>\n",
       "<tr><td>CONDOMINIUM</td><td>4015</td></tr>\n",
       "<tr><td>CLINIC</td><td>33</td></tr>\n",
       "<tr><td>COUNTRY_HOUSE</td><td>9</td></tr>\n",
       "<tr><td>COMMERCIAL_PROPERTY</td><td>5871</td></tr>\n",
       "</table>\n"
      ],
      "text/plain": [
       "+--------------------+-----+\n",
       "|           unitTypes|count|\n",
       "+--------------------+-----+\n",
       "|                FARM|   10|\n",
       "|RESIDENTIAL_ALLOT...| 1430|\n",
       "|SHED_DEPOSIT_WARE...| 2197|\n",
       "|                HOME| 9030|\n",
       "|           PENTHOUSE| 2772|\n",
       "|     TWO_STORY_HOUSE|18068|\n",
       "|            BUSINESS|  663|\n",
       "|               STORE|  694|\n",
       "|RESIDENTIAL_BUILDING|  142|\n",
       "|                FLAT| 7661|\n",
       "|COMMERCIAL_ALLOTM...|  807|\n",
       "|              OFFICE| 7714|\n",
       "|              KITNET|  522|\n",
       "|           APARTMENT|72241|\n",
       "| COMMERCIAL_BUILDING|   85|\n",
       "|         CONDOMINIUM| 4015|\n",
       "|              CLINIC|   33|\n",
       "|       COUNTRY_HOUSE|    9|\n",
       "| COMMERCIAL_PROPERTY| 5871|\n",
       "+--------------------+-----+"
      ]
     },
     "execution_count": 11,
     "metadata": {},
     "output_type": "execute_result"
    }
   ],
   "source": [
    "df_imoveis.groupBy('unitTypes').count()"
   ]
  },
  {
   "cell_type": "markdown",
   "metadata": {},
   "source": [
    "### Contando dados agrupados | método groupby() informando coluna"
   ]
  },
  {
   "cell_type": "code",
   "execution_count": 12,
   "metadata": {},
   "outputs": [
    {
     "name": "stderr",
     "output_type": "stream",
     "text": [
      "                                                                                \r"
     ]
    },
    {
     "data": {
      "text/html": [
       "<table border='1'>\n",
       "<tr><th>neighborhood</th><th>qty</th></tr>\n",
       "<tr><td>Jardim Coimbra</td><td>2</td></tr>\n",
       "<tr><td>Jardim Jussara</td><td>28</td></tr>\n",
       "<tr><td>Jardim Fonte do M...</td><td>63</td></tr>\n",
       "<tr><td>Vila Mendes</td><td>42</td></tr>\n",
       "<tr><td>Vila Beatriz</td><td>29</td></tr>\n",
       "<tr><td>Jardim Satélite</td><td>4</td></tr>\n",
       "<tr><td>Colonia - Zona Leste</td><td>3</td></tr>\n",
       "<tr><td>Vila Antonieta</td><td>168</td></tr>\n",
       "<tr><td>Vila Guilherme</td><td>378</td></tr>\n",
       "<tr><td>Vila Palmeiras</td><td>128</td></tr>\n",
       "<tr><td>Água Rasa</td><td>493</td></tr>\n",
       "<tr><td>Jardim Ideal</td><td>3</td></tr>\n",
       "<tr><td>Parque Boa Esperança</td><td>1</td></tr>\n",
       "<tr><td>Jardim Nadir</td><td>3</td></tr>\n",
       "<tr><td>Vila Almeida</td><td>12</td></tr>\n",
       "<tr><td>Vila Miriam</td><td>41</td></tr>\n",
       "<tr><td>Fazenda Aricanduva</td><td>18</td></tr>\n",
       "<tr><td>São Miguel Paulista</td><td>25</td></tr>\n",
       "<tr><td>Jardim Panorama d...</td><td>6</td></tr>\n",
       "<tr><td>Vila Olímpia</td><td>1885</td></tr>\n",
       "</table>\n",
       "only showing top 20 rows\n"
      ],
      "text/plain": [
       "+--------------------+----+\n",
       "|        neighborhood| qty|\n",
       "+--------------------+----+\n",
       "|      Jardim Coimbra|   2|\n",
       "|      Jardim Jussara|  28|\n",
       "|Jardim Fonte do M...|  63|\n",
       "|         Vila Mendes|  42|\n",
       "|        Vila Beatriz|  29|\n",
       "|     Jardim Satélite|   4|\n",
       "|Colonia - Zona Leste|   3|\n",
       "|      Vila Antonieta| 168|\n",
       "|      Vila Guilherme| 378|\n",
       "|      Vila Palmeiras| 128|\n",
       "|           Água Rasa| 493|\n",
       "|        Jardim Ideal|   3|\n",
       "|Parque Boa Esperança|   1|\n",
       "|        Jardim Nadir|   3|\n",
       "|        Vila Almeida|  12|\n",
       "|         Vila Miriam|  41|\n",
       "|  Fazenda Aricanduva|  18|\n",
       "| São Miguel Paulista|  25|\n",
       "|Jardim Panorama d...|   6|\n",
       "|        Vila Olímpia|1885|\n",
       "+--------------------+----+\n",
       "only showing top 20 rows"
      ]
     },
     "execution_count": 12,
     "metadata": {},
     "output_type": "execute_result"
    }
   ],
   "source": [
    "from pyspark.sql import functions as F\n",
    "\n",
    "df_imoveis \\\n",
    "        .groupBy('address.neighborhood') \\\n",
    "        .agg(F.count(\"*\").alias(\"qty\"))"
   ]
  },
  {
   "cell_type": "markdown",
   "metadata": {},
   "source": [
    "### Melhorando identação do código"
   ]
  },
  {
   "cell_type": "code",
   "execution_count": 13,
   "metadata": {},
   "outputs": [
    {
     "name": "stderr",
     "output_type": "stream",
     "text": [
      "                                                                                \r"
     ]
    },
    {
     "data": {
      "text/html": [
       "<table border='1'>\n",
       "<tr><th>neighborhood</th><th>qty</th></tr>\n",
       "<tr><td>Jardim Coimbra</td><td>2</td></tr>\n",
       "<tr><td>Jardim Jussara</td><td>28</td></tr>\n",
       "<tr><td>Jardim Fonte do M...</td><td>63</td></tr>\n",
       "<tr><td>Vila Mendes</td><td>42</td></tr>\n",
       "<tr><td>Vila Beatriz</td><td>29</td></tr>\n",
       "<tr><td>Jardim Satélite</td><td>4</td></tr>\n",
       "<tr><td>Colonia - Zona Leste</td><td>3</td></tr>\n",
       "<tr><td>Vila Antonieta</td><td>168</td></tr>\n",
       "<tr><td>Vila Guilherme</td><td>378</td></tr>\n",
       "<tr><td>Vila Palmeiras</td><td>128</td></tr>\n",
       "<tr><td>Água Rasa</td><td>493</td></tr>\n",
       "<tr><td>Jardim Ideal</td><td>3</td></tr>\n",
       "<tr><td>Parque Boa Esperança</td><td>1</td></tr>\n",
       "<tr><td>Jardim Nadir</td><td>3</td></tr>\n",
       "<tr><td>Vila Almeida</td><td>12</td></tr>\n",
       "<tr><td>Vila Miriam</td><td>41</td></tr>\n",
       "<tr><td>Fazenda Aricanduva</td><td>18</td></tr>\n",
       "<tr><td>São Miguel Paulista</td><td>25</td></tr>\n",
       "<tr><td>Jardim Panorama d...</td><td>6</td></tr>\n",
       "<tr><td>Vila Olímpia</td><td>1885</td></tr>\n",
       "</table>\n",
       "only showing top 20 rows\n"
      ],
      "text/plain": [
       "+--------------------+----+\n",
       "|        neighborhood| qty|\n",
       "+--------------------+----+\n",
       "|      Jardim Coimbra|   2|\n",
       "|      Jardim Jussara|  28|\n",
       "|Jardim Fonte do M...|  63|\n",
       "|         Vila Mendes|  42|\n",
       "|        Vila Beatriz|  29|\n",
       "|     Jardim Satélite|   4|\n",
       "|Colonia - Zona Leste|   3|\n",
       "|      Vila Antonieta| 168|\n",
       "|      Vila Guilherme| 378|\n",
       "|      Vila Palmeiras| 128|\n",
       "|           Água Rasa| 493|\n",
       "|        Jardim Ideal|   3|\n",
       "|Parque Boa Esperança|   1|\n",
       "|        Jardim Nadir|   3|\n",
       "|        Vila Almeida|  12|\n",
       "|         Vila Miriam|  41|\n",
       "|  Fazenda Aricanduva|  18|\n",
       "| São Miguel Paulista|  25|\n",
       "|Jardim Panorama d...|   6|\n",
       "|        Vila Olímpia|1885|\n",
       "+--------------------+----+\n",
       "only showing top 20 rows"
      ]
     },
     "execution_count": 13,
     "metadata": {},
     "output_type": "execute_result"
    }
   ],
   "source": [
    "from pyspark.sql import functions as F #repetido apenas para fins didáticos\n",
    "\n",
    "(\n",
    "    df_imoveis\n",
    "            .groupBy(F.col(\"address.neighborhood\"))\n",
    "            .agg(F.count(\"*\").alias(\"qty\"))\n",
    ")"
   ]
  },
  {
   "cell_type": "markdown",
   "metadata": {},
   "source": [
    "### Pesquisando por uma coluna | método where()"
   ]
  },
  {
   "cell_type": "code",
   "execution_count": 14,
   "metadata": {},
   "outputs": [
    {
     "name": "stderr",
     "output_type": "stream",
     "text": [
      "                                                                                \r"
     ]
    },
    {
     "data": {
      "text/html": [
       "<table border='1'>\n",
       "<tr><th>address</th><th>bathrooms</th><th>bedrooms</th><th>createdAt</th><th>description</th><th>id</th><th>images</th><th>listingStatus</th><th>owner</th><th>parkingSpaces</th><th>pricingInfos</th><th>publicationType</th><th>publisherId</th><th>suites</th><th>title</th><th>totalAreas</th><th>unitTypes</th><th>updatedAt</th><th>usableAreas</th></tr>\n",
       "<tr><td>{São Paulo, BR, ,...</td><td>1</td><td>1</td><td>2018-07-04T14:22:...</td><td>1 dormitório, 1 b...</td><td>9ea003cf0a</td><td>[http://www.jalim...</td><td>ACTIVE</td><td>false</td><td>0</td><td>{RENTAL, 0, MONTH...</td><td>STANDARD</td><td>58b77d191a</td><td>0</td><td>Locação Casa SÃO ...</td><td>0</td><td>HOME</td><td>2018-10-24T01:20:...</td><td>0</td></tr>\n",
       "<tr><td>{São Paulo, , , {...</td><td>3</td><td>3</td><td>2018-04-16T15:35:...</td><td>LINDO SOBRADO FRO...</td><td>026e79aa13</td><td>[http://www.aterr...</td><td>ACTIVE</td><td>false</td><td>9</td><td>{SALE, 0, null, 4...</td><td>STANDARD</td><td>2bfafc55fa</td><td>1</td><td>Sobrado para Vend...</td><td>null</td><td>HOME</td><td>2018-11-20T18:32:...</td><td>205</td></tr>\n",
       "</table>\n"
      ],
      "text/plain": [
       "+--------------------+---------+--------+--------------------+--------------------+----------+--------------------+-------------+-----+-------------+--------------------+---------------+-----------+------+--------------------+----------+---------+--------------------+-----------+\n",
       "|             address|bathrooms|bedrooms|           createdAt|         description|        id|              images|listingStatus|owner|parkingSpaces|        pricingInfos|publicationType|publisherId|suites|               title|totalAreas|unitTypes|           updatedAt|usableAreas|\n",
       "+--------------------+---------+--------+--------------------+--------------------+----------+--------------------+-------------+-----+-------------+--------------------+---------------+-----------+------+--------------------+----------+---------+--------------------+-----------+\n",
       "|{São Paulo, BR, ,...|        1|       1|2018-07-04T14:22:...|1 dormitório, 1 b...|9ea003cf0a|[http://www.jalim...|       ACTIVE|false|            0|{RENTAL, 0, MONTH...|       STANDARD| 58b77d191a|     0|Locação Casa SÃO ...|         0|     HOME|2018-10-24T01:20:...|          0|\n",
       "|{São Paulo, , , {...|        3|       3|2018-04-16T15:35:...|LINDO SOBRADO FRO...|026e79aa13|[http://www.aterr...|       ACTIVE|false|            9|{SALE, 0, null, 4...|       STANDARD| 2bfafc55fa|     1|Sobrado para Vend...|      null|     HOME|2018-11-20T18:32:...|        205|\n",
       "+--------------------+---------+--------+--------------------+--------------------+----------+--------------------+-------------+-----+-------------+--------------------+---------------+-----------+------+--------------------+----------+---------+--------------------+-----------+"
      ]
     },
     "execution_count": 14,
     "metadata": {},
     "output_type": "execute_result"
    }
   ],
   "source": [
    "from pyspark.sql import functions as F #repetido apenas para fins didáticos\n",
    "\n",
    "(\n",
    "    df_imoveis\n",
    "            .where(F.col(\"address.neighborhood\") == \"Jardim Coimbra\")\n",
    "            .select(\"*\")\n",
    ")"
   ]
  },
  {
   "cell_type": "markdown",
   "metadata": {},
   "source": [
    "### Pesquisando por uma coluna | método where() | por contagem"
   ]
  },
  {
   "cell_type": "code",
   "execution_count": 15,
   "metadata": {},
   "outputs": [
    {
     "name": "stderr",
     "output_type": "stream",
     "text": [
      "                                                                                \r"
     ]
    },
    {
     "data": {
      "text/html": [
       "<table border='1'>\n",
       "<tr><th>neighborhood</th><th>qty</th></tr>\n",
       "<tr><td>Jardim Jussara</td><td>28</td></tr>\n",
       "<tr><td>Jardim Fonte do M...</td><td>63</td></tr>\n",
       "<tr><td>Vila Mendes</td><td>42</td></tr>\n",
       "<tr><td>Vila Beatriz</td><td>29</td></tr>\n",
       "<tr><td>Vila Antonieta</td><td>168</td></tr>\n",
       "<tr><td>Vila Guilherme</td><td>378</td></tr>\n",
       "<tr><td>Vila Palmeiras</td><td>128</td></tr>\n",
       "<tr><td>Água Rasa</td><td>493</td></tr>\n",
       "<tr><td>Vila Almeida</td><td>12</td></tr>\n",
       "<tr><td>Vila Miriam</td><td>41</td></tr>\n",
       "<tr><td>Fazenda Aricanduva</td><td>18</td></tr>\n",
       "<tr><td>São Miguel Paulista</td><td>25</td></tr>\n",
       "<tr><td>Vila Olímpia</td><td>1885</td></tr>\n",
       "<tr><td>Jardim Cordeiro</td><td>11</td></tr>\n",
       "<tr><td>Jardim Ibitirama</td><td>12</td></tr>\n",
       "<tr><td>Vila Alexandria</td><td>18</td></tr>\n",
       "<tr><td>Jardim Taquaral</td><td>39</td></tr>\n",
       "<tr><td>Vila Mirante</td><td>43</td></tr>\n",
       "<tr><td>Jardim Helena</td><td>50</td></tr>\n",
       "<tr><td>Chácara Seis de O...</td><td>43</td></tr>\n",
       "</table>\n",
       "only showing top 20 rows\n"
      ],
      "text/plain": [
       "+--------------------+----+\n",
       "|        neighborhood| qty|\n",
       "+--------------------+----+\n",
       "|      Jardim Jussara|  28|\n",
       "|Jardim Fonte do M...|  63|\n",
       "|         Vila Mendes|  42|\n",
       "|        Vila Beatriz|  29|\n",
       "|      Vila Antonieta| 168|\n",
       "|      Vila Guilherme| 378|\n",
       "|      Vila Palmeiras| 128|\n",
       "|           Água Rasa| 493|\n",
       "|        Vila Almeida|  12|\n",
       "|         Vila Miriam|  41|\n",
       "|  Fazenda Aricanduva|  18|\n",
       "| São Miguel Paulista|  25|\n",
       "|        Vila Olímpia|1885|\n",
       "|     Jardim Cordeiro|  11|\n",
       "|    Jardim Ibitirama|  12|\n",
       "|     Vila Alexandria|  18|\n",
       "|     Jardim Taquaral|  39|\n",
       "|        Vila Mirante|  43|\n",
       "|       Jardim Helena|  50|\n",
       "|Chácara Seis de O...|  43|\n",
       "+--------------------+----+\n",
       "only showing top 20 rows"
      ]
     },
     "execution_count": 15,
     "metadata": {},
     "output_type": "execute_result"
    }
   ],
   "source": [
    "from pyspark.sql import functions as F #repetido apenas para fins didáticos\n",
    "\n",
    "df_imoveis_contagem = (\n",
    "                        df_imoveis\n",
    "                                .groupBy(F.col(\"address.neighborhood\"))\n",
    "                                .agg(F.count(\"*\").alias(\"qty\"))\n",
    ")\n",
    "\n",
    "(\n",
    "    df_imoveis_contagem\n",
    "            .where(F.col(\"qty\") > 10)\n",
    "            .select(\"*\")\n",
    ")"
   ]
  },
  {
   "cell_type": "markdown",
   "metadata": {},
   "source": [
    "### Contando dados agrupados com mais de uma coluna | método groupBy()"
   ]
  },
  {
   "cell_type": "code",
   "execution_count": 16,
   "metadata": {},
   "outputs": [
    {
     "name": "stderr",
     "output_type": "stream",
     "text": [
      "                                                                                \r"
     ]
    },
    {
     "data": {
      "text/html": [
       "<table border='1'>\n",
       "<tr><th>neighborhood</th><th>unitTypes</th><th>qty</th></tr>\n",
       "<tr><td>Sacomã</td><td>APARTMENT</td><td>248</td></tr>\n",
       "<tr><td>Vila Moinho Velho</td><td>RESIDENTIAL_ALLOT...</td><td>2</td></tr>\n",
       "<tr><td>Vila Dom Pedro II</td><td>TWO_STORY_HOUSE</td><td>87</td></tr>\n",
       "<tr><td>Vila Inah</td><td>HOME</td><td>8</td></tr>\n",
       "<tr><td>Vila Bela</td><td>RESIDENTIAL_ALLOT...</td><td>7</td></tr>\n",
       "<tr><td>Vila Frugoli</td><td>COUNTRY_HOUSE</td><td>1</td></tr>\n",
       "<tr><td>Vila São Paulo</td><td>TWO_STORY_HOUSE</td><td>2</td></tr>\n",
       "<tr><td>Vila Pereira Barreto</td><td>APARTMENT</td><td>69</td></tr>\n",
       "<tr><td>Vila Medeiros</td><td>APARTMENT</td><td>115</td></tr>\n",
       "<tr><td>Jardim Mirante</td><td>SHED_DEPOSIT_WARE...</td><td>1</td></tr>\n",
       "<tr><td>Penha de França</td><td>RESIDENTIAL_ALLOT...</td><td>4</td></tr>\n",
       "<tr><td>Jardim Peri</td><td>CONDOMINIUM</td><td>12</td></tr>\n",
       "<tr><td>Vila Nova Galvão</td><td>SHED_DEPOSIT_WARE...</td><td>1</td></tr>\n",
       "<tr><td>Vila Beatriz</td><td>TWO_STORY_HOUSE</td><td>5</td></tr>\n",
       "<tr><td>Brooklin Novo</td><td>COMMERCIAL_PROPERTY</td><td>5</td></tr>\n",
       "<tr><td>Indianópolis</td><td>RESIDENTIAL_BUILDING</td><td>1</td></tr>\n",
       "<tr><td>Chac. Santo Anton</td><td>APARTMENT</td><td>1</td></tr>\n",
       "<tr><td>Cidade Monções</td><td>STORE</td><td>6</td></tr>\n",
       "<tr><td>Jardim Santa Cruz...</td><td>HOME</td><td>2</td></tr>\n",
       "<tr><td>Paraisópolis</td><td>APARTMENT</td><td>110</td></tr>\n",
       "</table>\n",
       "only showing top 20 rows\n"
      ],
      "text/plain": [
       "+--------------------+--------------------+---+\n",
       "|        neighborhood|           unitTypes|qty|\n",
       "+--------------------+--------------------+---+\n",
       "|              Sacomã|           APARTMENT|248|\n",
       "|   Vila Moinho Velho|RESIDENTIAL_ALLOT...|  2|\n",
       "|   Vila Dom Pedro II|     TWO_STORY_HOUSE| 87|\n",
       "|           Vila Inah|                HOME|  8|\n",
       "|           Vila Bela|RESIDENTIAL_ALLOT...|  7|\n",
       "|        Vila Frugoli|       COUNTRY_HOUSE|  1|\n",
       "|      Vila São Paulo|     TWO_STORY_HOUSE|  2|\n",
       "|Vila Pereira Barreto|           APARTMENT| 69|\n",
       "|       Vila Medeiros|           APARTMENT|115|\n",
       "|      Jardim Mirante|SHED_DEPOSIT_WARE...|  1|\n",
       "|     Penha de França|RESIDENTIAL_ALLOT...|  4|\n",
       "|         Jardim Peri|         CONDOMINIUM| 12|\n",
       "|    Vila Nova Galvão|SHED_DEPOSIT_WARE...|  1|\n",
       "|        Vila Beatriz|     TWO_STORY_HOUSE|  5|\n",
       "|       Brooklin Novo| COMMERCIAL_PROPERTY|  5|\n",
       "|        Indianópolis|RESIDENTIAL_BUILDING|  1|\n",
       "|   Chac. Santo Anton|           APARTMENT|  1|\n",
       "|      Cidade Monções|               STORE|  6|\n",
       "|Jardim Santa Cruz...|                HOME|  2|\n",
       "|        Paraisópolis|           APARTMENT|110|\n",
       "+--------------------+--------------------+---+\n",
       "only showing top 20 rows"
      ]
     },
     "execution_count": 16,
     "metadata": {},
     "output_type": "execute_result"
    }
   ],
   "source": [
    "from pyspark.sql import functions as F #repetido apenas para fins didáticos\n",
    "\n",
    "(\n",
    "    df_imoveis\n",
    "            .groupBy(\n",
    "                        F.col(\"address.neighborhood\"),\n",
    "                        F.col(\"unitTypes\")\n",
    "                     )\n",
    "            .agg(F.count(\"*\").alias(\"qty\"))\n",
    ")"
   ]
  },
  {
   "cell_type": "markdown",
   "metadata": {},
   "source": [
    "### Contando dados agrupados com mais de uma coluna | método groupBy() com orderBy()"
   ]
  },
  {
   "cell_type": "code",
   "execution_count": 17,
   "metadata": {},
   "outputs": [
    {
     "name": "stderr",
     "output_type": "stream",
     "text": [
      "                                                                                \r"
     ]
    },
    {
     "data": {
      "text/html": [
       "<table border='1'>\n",
       "<tr><th>neighborhood</th><th>unitTypes</th><th>qty</th></tr>\n",
       "<tr><td></td><td>OFFICE</td><td>1</td></tr>\n",
       "<tr><td></td><td>APARTMENT</td><td>13</td></tr>\n",
       "<tr><td></td><td>CONDOMINIUM</td><td>1</td></tr>\n",
       "<tr><td></td><td>TWO_STORY_HOUSE</td><td>1</td></tr>\n",
       "<tr><td></td><td>RESIDENTIAL_BUILDING</td><td>4</td></tr>\n",
       "<tr><td></td><td>FLAT</td><td>1</td></tr>\n",
       "<tr><td>176</td><td>APARTMENT</td><td>3</td></tr>\n",
       "<tr><td>204</td><td>APARTMENT</td><td>4</td></tr>\n",
       "<tr><td>A. Pinheiros</td><td>APARTMENT</td><td>4</td></tr>\n",
       "<tr><td>Aclimação</td><td>RESIDENTIAL_ALLOT...</td><td>5</td></tr>\n",
       "<tr><td>Aclimação</td><td>COMMERCIAL_PROPERTY</td><td>22</td></tr>\n",
       "<tr><td>Aclimação</td><td>TWO_STORY_HOUSE</td><td>37</td></tr>\n",
       "<tr><td>Aclimação</td><td>COMMERCIAL_BUILDING</td><td>1</td></tr>\n",
       "<tr><td>Aclimação</td><td>CONDOMINIUM</td><td>1</td></tr>\n",
       "<tr><td>Aclimação</td><td>OFFICE</td><td>32</td></tr>\n",
       "<tr><td>Aclimação</td><td>PENTHOUSE</td><td>17</td></tr>\n",
       "<tr><td>Aclimação</td><td>STORE</td><td>2</td></tr>\n",
       "<tr><td>Aclimação</td><td>HOME</td><td>23</td></tr>\n",
       "<tr><td>Aclimação</td><td>KITNET</td><td>1</td></tr>\n",
       "<tr><td>Aclimação</td><td>APARTMENT</td><td>417</td></tr>\n",
       "</table>\n",
       "only showing top 20 rows\n"
      ],
      "text/plain": [
       "+------------+--------------------+---+\n",
       "|neighborhood|           unitTypes|qty|\n",
       "+------------+--------------------+---+\n",
       "|            |              OFFICE|  1|\n",
       "|            |           APARTMENT| 13|\n",
       "|            |         CONDOMINIUM|  1|\n",
       "|            |     TWO_STORY_HOUSE|  1|\n",
       "|            |RESIDENTIAL_BUILDING|  4|\n",
       "|            |                FLAT|  1|\n",
       "|         176|           APARTMENT|  3|\n",
       "|         204|           APARTMENT|  4|\n",
       "|A. Pinheiros|           APARTMENT|  4|\n",
       "|   Aclimação|RESIDENTIAL_ALLOT...|  5|\n",
       "|   Aclimação| COMMERCIAL_PROPERTY| 22|\n",
       "|   Aclimação|     TWO_STORY_HOUSE| 37|\n",
       "|   Aclimação| COMMERCIAL_BUILDING|  1|\n",
       "|   Aclimação|         CONDOMINIUM|  1|\n",
       "|   Aclimação|              OFFICE| 32|\n",
       "|   Aclimação|           PENTHOUSE| 17|\n",
       "|   Aclimação|               STORE|  2|\n",
       "|   Aclimação|                HOME| 23|\n",
       "|   Aclimação|              KITNET|  1|\n",
       "|   Aclimação|           APARTMENT|417|\n",
       "+------------+--------------------+---+\n",
       "only showing top 20 rows"
      ]
     },
     "execution_count": 17,
     "metadata": {},
     "output_type": "execute_result"
    }
   ],
   "source": [
    "from pyspark.sql import functions as F #repetido apenas para fins didáticos\n",
    "\n",
    "(\n",
    "    df_imoveis\n",
    "            .groupBy(\n",
    "                        F.col(\"address.neighborhood\"),\n",
    "                        F.col(\"unitTypes\")\n",
    "                     )\n",
    "            .agg(F.count(\"*\").alias(\"qty\"))\n",
    "            .orderBy(F.col(\"address.neighborhood\"))\n",
    ")"
   ]
  },
  {
   "cell_type": "markdown",
   "metadata": {},
   "source": [
    "### Consultando por casas e trazendo dados financieros | criar dataframe de casas para locação"
   ]
  },
  {
   "cell_type": "code",
   "execution_count": 18,
   "metadata": {},
   "outputs": [
    {
     "data": {
      "text/html": [
       "<table border='1'>\n",
       "<tr><th>country</th><th>city</th><th>neighborhood</th><th>state</th><th>street</th><th>zone</th><th>bathrooms</th><th>bedrooms</th><th>description</th><th>listingStatus</th><th>owner</th><th>parkingSpaces</th><th>businessType</th><th>monthlyCondoFee</th><th>period</th><th>price</th><th>rentalTotalPrice</th><th>yearlyIptu</th><th>publicationType</th><th>suites</th><th>title</th><th>totalAreas</th><th>unitTypes</th><th>usableAreas</th></tr>\n",
       "<tr><td>BR</td><td>São Paulo</td><td>Jardim Guedala</td><td>São Paulo</td><td>Rua Olegário Mariano</td><td>Zona Sul</td><td>6</td><td>0</td><td>Excelente imóvel,...</td><td>ACTIVE</td><td>false</td><td>4</td><td>RENTAL</td><td>0</td><td>MONTHLY</td><td>7000</td><td>7000</td><td>0</td><td>STANDARD</td><td>3</td><td>Casa Clássica no ...</td><td>480</td><td>HOME</td><td>480</td></tr>\n",
       "<tr><td></td><td>São Paulo</td><td>Perdizes</td><td>São Paulo</td><td>Rua Tucuna</td><td></td><td>3</td><td>3</td><td>Casa residencial/...</td><td>ACTIVE</td><td>false</td><td>2</td><td>RENTAL</td><td>0</td><td>MONTHLY</td><td>4130</td><td>4130</td><td>244</td><td>STANDARD</td><td>0</td><td>PERDIZES - CASA -...</td><td>230</td><td>HOME</td><td>170</td></tr>\n",
       "<tr><td>BR</td><td>São Paulo</td><td>Sumaré</td><td>São Paulo</td><td>Rua Cayowaá</td><td>Zona Oeste</td><td>3</td><td>3</td><td>03 Dormitórios, s...</td><td>ACTIVE</td><td>false</td><td>2</td><td>RENTAL</td><td>0</td><td>MONTHLY</td><td>2450</td><td>2450</td><td>230</td><td>STANDARD</td><td>1</td><td>Casa em São Paulo</td><td>0</td><td>HOME</td><td>0</td></tr>\n",
       "<tr><td>BR</td><td>São Paulo</td><td>Vila Isolina Mazzei</td><td>São Paulo</td><td></td><td>Zona Norte</td><td>1</td><td>3</td><td>Sobrado - 03 dorm...</td><td>ACTIVE</td><td>false</td><td>6</td><td>RENTAL</td><td>0</td><td>MONTHLY</td><td>2800</td><td>2800</td><td>161</td><td>STANDARD</td><td>2</td><td>SãO PAULO - Casa ...</td><td>0</td><td>HOME</td><td>0</td></tr>\n",
       "<tr><td>BR</td><td>São Paulo</td><td>Vila Penteado</td><td>São Paulo</td><td>Rua Emílio Kemp</td><td>Zona Norte</td><td>1</td><td>1</td><td>Trata-se de uma c...</td><td>ACTIVE</td><td>false</td><td>null</td><td>RENTAL</td><td>0</td><td>MONTHLY</td><td>454</td><td>454</td><td>17</td><td>STANDARD</td><td>0</td><td>casa - Vila Pente...</td><td>0</td><td>HOME</td><td>0</td></tr>\n",
       "<tr><td>BR</td><td>São Paulo</td><td>Campo Belo</td><td>São Paulo</td><td>Rua Nicolau Zarvos</td><td>Zona Sul</td><td>0</td><td>3</td><td>CASA TERREA NO JA...</td><td>ACTIVE</td><td>false</td><td>5</td><td>RENTAL</td><td>0</td><td>MONTHLY</td><td>2660</td><td>2660</td><td>0</td><td>STANDARD</td><td>0</td><td>CASA RESIDENCIAL ...</td><td>250</td><td>HOME</td><td>250</td></tr>\n",
       "<tr><td>BR</td><td>São Paulo</td><td>Vila Medeiros</td><td>São Paulo</td><td>Rua Joaquim de So...</td><td>Zona Norte</td><td>1</td><td>1</td><td></td><td>ACTIVE</td><td>false</td><td>0</td><td>RENTAL</td><td>0</td><td>MONTHLY</td><td>630</td><td>630</td><td>37</td><td>STANDARD</td><td>0</td><td>CASA TÉRREA-VILA ...</td><td>1</td><td>HOME</td><td>1</td></tr>\n",
       "<tr><td>BR</td><td>São Paulo</td><td>Vila Noca</td><td>São Paulo</td><td>Rua José Fava</td><td>Zona Sul</td><td>4</td><td>2</td><td>Sobrado bem local...</td><td>ACTIVE</td><td>false</td><td>2</td><td>RENTAL</td><td>null</td><td>MONTHLY</td><td>2240</td><td>2240</td><td>280</td><td>STANDARD</td><td>2</td><td>SOBRADO 02 SUÍTES</td><td>275</td><td>HOME</td><td>155</td></tr>\n",
       "<tr><td></td><td>São Paulo</td><td>Parque Casa de Pedra</td><td>São Paulo</td><td>Rua do Buruí</td><td>Zona Norte</td><td>2</td><td>3</td><td>Cod- 717Térreo- 3...</td><td>ACTIVE</td><td>false</td><td>4</td><td>RENTAL</td><td>0</td><td>MONTHLY</td><td>1750</td><td>1750</td><td>60</td><td>STANDARD</td><td>1</td><td>Venda ou Locação ...</td><td>125</td><td>HOME</td><td>151</td></tr>\n",
       "<tr><td></td><td>São Paulo</td><td>Parque Taipas</td><td>São Paulo</td><td></td><td>Zona Norte</td><td>null</td><td>null</td><td>CODIGO 0063  &amp;lt;...</td><td>ACTIVE</td><td>false</td><td>null</td><td>RENTAL</td><td>0</td><td>MONTHLY</td><td>525</td><td>525</td><td>0</td><td>STANDARD</td><td>null</td><td>Casa a Locação em...</td><td>null</td><td>HOME</td><td>null</td></tr>\n",
       "<tr><td>BR</td><td>São Paulo</td><td>Vila Granada</td><td>São Paulo</td><td>Praça General Aze...</td><td>Zona Leste</td><td>1</td><td>1</td><td>Cômodo e cozinha ...</td><td>ACTIVE</td><td>false</td><td>0</td><td>RENTAL</td><td>0</td><td>MONTHLY</td><td>595</td><td>595</td><td>0</td><td>STANDARD</td><td>0</td><td>Cômodo e Cozinha ...</td><td>0</td><td>HOME</td><td>0</td></tr>\n",
       "<tr><td>BR</td><td>São Paulo</td><td>Vila Gomes Cardim</td><td>São Paulo</td><td>Rua Serra de Botu...</td><td>Zona Leste</td><td>4</td><td>1</td><td>sobrado Comercial...</td><td>ACTIVE</td><td>false</td><td>3</td><td>RENTAL</td><td>null</td><td>MONTHLY</td><td>5600</td><td>5600</td><td>null</td><td>STANDARD</td><td>0</td><td>Casa para locação.</td><td>666</td><td>HOME</td><td>666</td></tr>\n",
       "<tr><td>BR</td><td>São Paulo</td><td>Jardim Japão</td><td>São Paulo</td><td>Rua Eugênio Giral...</td><td>Zona Norte</td><td>1</td><td>1</td><td>Casa no bairro Ja...</td><td>ACTIVE</td><td>false</td><td>0</td><td>RENTAL</td><td>0</td><td>MONTHLY</td><td>420</td><td>420</td><td>17</td><td>STANDARD</td><td>0</td><td>Selecione residen...</td><td>0</td><td>HOME</td><td>0</td></tr>\n",
       "<tr><td></td><td>São Paulo</td><td>Jardim Cordeiro</td><td>São Paulo</td><td>Rua Doutor Franci...</td><td>Zona Sul</td><td>6</td><td>4</td><td>Incluso no condom...</td><td>ACTIVE</td><td>false</td><td>4</td><td>RENTAL</td><td>2800</td><td>MONTHLY</td><td>10500</td><td>13300</td><td>1120</td><td>STANDARD</td><td>4</td><td>Casa em São Paulo</td><td>null</td><td>HOME</td><td>360</td></tr>\n",
       "<tr><td>BR</td><td>São Paulo</td><td>Chácara Santo Ant...</td><td>São Paulo</td><td>Rua da Paz</td><td>Zona Sul</td><td>3</td><td>4</td><td>CASA COM 4 DORMIT...</td><td>ACTIVE</td><td>false</td><td>2</td><td>RENTAL</td><td>0</td><td>MONTHLY</td><td>2660</td><td>2660</td><td>140</td><td>STANDARD</td><td>0</td><td>Casas em Chácara ...</td><td>0</td><td>HOME</td><td>0</td></tr>\n",
       "<tr><td>BR</td><td>São Paulo</td><td>Jardim Coimbra</td><td>São Paulo</td><td>Rua Tales de Mileto</td><td>Zona Leste</td><td>1</td><td>1</td><td>1 dormitório, 1 b...</td><td>ACTIVE</td><td>false</td><td>0</td><td>RENTAL</td><td>0</td><td>MONTHLY</td><td>532</td><td>532</td><td>0</td><td>STANDARD</td><td>0</td><td>Locação Casa SÃO ...</td><td>0</td><td>HOME</td><td>0</td></tr>\n",
       "<tr><td></td><td>São Paulo</td><td>Vila Francos</td><td>São Paulo</td><td>Rua Coração Maternal</td><td></td><td>1</td><td>1</td><td>01 DORMITORIO AMP...</td><td>ACTIVE</td><td>false</td><td>1</td><td>RENTAL</td><td>0</td><td>MONTHLY</td><td>560</td><td>560</td><td>0</td><td>STANDARD</td><td>0</td><td>CASA COM GARAGEM</td><td>0</td><td>HOME</td><td>60</td></tr>\n",
       "<tr><td></td><td>São Paulo</td><td>Quarta Parada</td><td>São Paulo</td><td>Rua Ubajara</td><td></td><td>2</td><td>4</td><td>Casa térrea em ru...</td><td>ACTIVE</td><td>false</td><td>2</td><td>RENTAL</td><td>0</td><td>MONTHLY</td><td>2800</td><td>2800</td><td>0</td><td>STANDARD</td><td>1</td><td>Casa para aluguel...</td><td>200</td><td>HOME</td><td>200</td></tr>\n",
       "<tr><td>BR</td><td>São Paulo</td><td>Jardim Iguatemi</td><td>São Paulo</td><td>Rua Garcia Paes</td><td>Zona Leste</td><td>1</td><td>1</td><td>Imóvel residencia...</td><td>ACTIVE</td><td>false</td><td>0</td><td>RENTAL</td><td>0</td><td>MONTHLY</td><td>420</td><td>420</td><td>0</td><td>STANDARD</td><td>0</td><td>Casa residencial ...</td><td>0</td><td>HOME</td><td>0</td></tr>\n",
       "<tr><td></td><td>São Paulo</td><td>Jardim Alvina</td><td>São Paulo</td><td></td><td>Zona Norte</td><td>1</td><td>1</td><td>CODIGO 0183;  &amp;lt...</td><td>ACTIVE</td><td>false</td><td>null</td><td>RENTAL</td><td>0</td><td>MONTHLY</td><td>525</td><td>525</td><td>0</td><td>STANDARD</td><td>null</td><td>Casa a Locação em...</td><td>null</td><td>HOME</td><td>null</td></tr>\n",
       "</table>\n",
       "only showing top 20 rows\n"
      ],
      "text/plain": [
       "+-------+---------+--------------------+---------+--------------------+----------+---------+--------+--------------------+-------------+-----+-------------+------------+---------------+-------+-----+----------------+----------+---------------+------+--------------------+----------+---------+-----------+\n",
       "|country|     city|        neighborhood|    state|              street|      zone|bathrooms|bedrooms|         description|listingStatus|owner|parkingSpaces|businessType|monthlyCondoFee| period|price|rentalTotalPrice|yearlyIptu|publicationType|suites|               title|totalAreas|unitTypes|usableAreas|\n",
       "+-------+---------+--------------------+---------+--------------------+----------+---------+--------+--------------------+-------------+-----+-------------+------------+---------------+-------+-----+----------------+----------+---------------+------+--------------------+----------+---------+-----------+\n",
       "|     BR|São Paulo|      Jardim Guedala|São Paulo|Rua Olegário Mariano|  Zona Sul|        6|       0|Excelente imóvel,...|       ACTIVE|false|            4|      RENTAL|              0|MONTHLY| 7000|            7000|         0|       STANDARD|     3|Casa Clássica no ...|       480|     HOME|        480|\n",
       "|       |São Paulo|            Perdizes|São Paulo|          Rua Tucuna|          |        3|       3|Casa residencial/...|       ACTIVE|false|            2|      RENTAL|              0|MONTHLY| 4130|            4130|       244|       STANDARD|     0|PERDIZES - CASA -...|       230|     HOME|        170|\n",
       "|     BR|São Paulo|              Sumaré|São Paulo|         Rua Cayowaá|Zona Oeste|        3|       3|03 Dormitórios, s...|       ACTIVE|false|            2|      RENTAL|              0|MONTHLY| 2450|            2450|       230|       STANDARD|     1|   Casa em São Paulo|         0|     HOME|          0|\n",
       "|     BR|São Paulo| Vila Isolina Mazzei|São Paulo|                    |Zona Norte|        1|       3|Sobrado - 03 dorm...|       ACTIVE|false|            6|      RENTAL|              0|MONTHLY| 2800|            2800|       161|       STANDARD|     2|SãO PAULO - Casa ...|         0|     HOME|          0|\n",
       "|     BR|São Paulo|       Vila Penteado|São Paulo|     Rua Emílio Kemp|Zona Norte|        1|       1|Trata-se de uma c...|       ACTIVE|false|         null|      RENTAL|              0|MONTHLY|  454|             454|        17|       STANDARD|     0|casa - Vila Pente...|         0|     HOME|          0|\n",
       "|     BR|São Paulo|          Campo Belo|São Paulo|  Rua Nicolau Zarvos|  Zona Sul|        0|       3|CASA TERREA NO JA...|       ACTIVE|false|            5|      RENTAL|              0|MONTHLY| 2660|            2660|         0|       STANDARD|     0|CASA RESIDENCIAL ...|       250|     HOME|        250|\n",
       "|     BR|São Paulo|       Vila Medeiros|São Paulo|Rua Joaquim de So...|Zona Norte|        1|       1|                    |       ACTIVE|false|            0|      RENTAL|              0|MONTHLY|  630|             630|        37|       STANDARD|     0|CASA TÉRREA-VILA ...|         1|     HOME|          1|\n",
       "|     BR|São Paulo|           Vila Noca|São Paulo|       Rua José Fava|  Zona Sul|        4|       2|Sobrado bem local...|       ACTIVE|false|            2|      RENTAL|           null|MONTHLY| 2240|            2240|       280|       STANDARD|     2|   SOBRADO 02 SUÍTES|       275|     HOME|        155|\n",
       "|       |São Paulo|Parque Casa de Pedra|São Paulo|        Rua do Buruí|Zona Norte|        2|       3|Cod- 717Térreo- 3...|       ACTIVE|false|            4|      RENTAL|              0|MONTHLY| 1750|            1750|        60|       STANDARD|     1|Venda ou Locação ...|       125|     HOME|        151|\n",
       "|       |São Paulo|       Parque Taipas|São Paulo|                    |Zona Norte|     null|    null|CODIGO 0063  &lt;...|       ACTIVE|false|         null|      RENTAL|              0|MONTHLY|  525|             525|         0|       STANDARD|  null|Casa a Locação em...|      null|     HOME|       null|\n",
       "|     BR|São Paulo|        Vila Granada|São Paulo|Praça General Aze...|Zona Leste|        1|       1|Cômodo e cozinha ...|       ACTIVE|false|            0|      RENTAL|              0|MONTHLY|  595|             595|         0|       STANDARD|     0|Cômodo e Cozinha ...|         0|     HOME|          0|\n",
       "|     BR|São Paulo|   Vila Gomes Cardim|São Paulo|Rua Serra de Botu...|Zona Leste|        4|       1|sobrado Comercial...|       ACTIVE|false|            3|      RENTAL|           null|MONTHLY| 5600|            5600|      null|       STANDARD|     0|  Casa para locação.|       666|     HOME|        666|\n",
       "|     BR|São Paulo|        Jardim Japão|São Paulo|Rua Eugênio Giral...|Zona Norte|        1|       1|Casa no bairro Ja...|       ACTIVE|false|            0|      RENTAL|              0|MONTHLY|  420|             420|        17|       STANDARD|     0|Selecione residen...|         0|     HOME|          0|\n",
       "|       |São Paulo|     Jardim Cordeiro|São Paulo|Rua Doutor Franci...|  Zona Sul|        6|       4|Incluso no condom...|       ACTIVE|false|            4|      RENTAL|           2800|MONTHLY|10500|           13300|      1120|       STANDARD|     4|   Casa em São Paulo|      null|     HOME|        360|\n",
       "|     BR|São Paulo|Chácara Santo Ant...|São Paulo|          Rua da Paz|  Zona Sul|        3|       4|CASA COM 4 DORMIT...|       ACTIVE|false|            2|      RENTAL|              0|MONTHLY| 2660|            2660|       140|       STANDARD|     0|Casas em Chácara ...|         0|     HOME|          0|\n",
       "|     BR|São Paulo|      Jardim Coimbra|São Paulo| Rua Tales de Mileto|Zona Leste|        1|       1|1 dormitório, 1 b...|       ACTIVE|false|            0|      RENTAL|              0|MONTHLY|  532|             532|         0|       STANDARD|     0|Locação Casa SÃO ...|         0|     HOME|          0|\n",
       "|       |São Paulo|        Vila Francos|São Paulo|Rua Coração Maternal|          |        1|       1|01 DORMITORIO AMP...|       ACTIVE|false|            1|      RENTAL|              0|MONTHLY|  560|             560|         0|       STANDARD|     0|    CASA COM GARAGEM|         0|     HOME|         60|\n",
       "|       |São Paulo|       Quarta Parada|São Paulo|         Rua Ubajara|          |        2|       4|Casa térrea em ru...|       ACTIVE|false|            2|      RENTAL|              0|MONTHLY| 2800|            2800|         0|       STANDARD|     1|Casa para aluguel...|       200|     HOME|        200|\n",
       "|     BR|São Paulo|     Jardim Iguatemi|São Paulo|     Rua Garcia Paes|Zona Leste|        1|       1|Imóvel residencia...|       ACTIVE|false|            0|      RENTAL|              0|MONTHLY|  420|             420|         0|       STANDARD|     0|Casa residencial ...|         0|     HOME|          0|\n",
       "|       |São Paulo|       Jardim Alvina|São Paulo|                    |Zona Norte|        1|       1|CODIGO 0183;  &lt...|       ACTIVE|false|         null|      RENTAL|              0|MONTHLY|  525|             525|         0|       STANDARD|  null|Casa a Locação em...|      null|     HOME|       null|\n",
       "+-------+---------+--------------------+---------+--------------------+----------+---------+--------+--------------------+-------------+-----+-------------+------------+---------------+-------+-----+----------------+----------+---------------+------+--------------------+----------+---------+-----------+\n",
       "only showing top 20 rows"
      ]
     },
     "execution_count": 18,
     "metadata": {},
     "output_type": "execute_result"
    }
   ],
   "source": [
    "from pyspark.sql import functions as F #repetido apenas para fins didáticos\n",
    "\n",
    "tipos_imoveis = ['FARM', 'HOME', 'COUNTRY_HOUSE']\n",
    "\n",
    "cols = [\n",
    "         'address.country', 'address.city', 'address.neighborhood', 'address.state', 'address.street', 'address.zone', \n",
    "         'bathrooms', 'bedrooms', 'description', 'listingStatus', 'owner', 'parkingSpaces', 'pricingInfos.businessType',\n",
    "         'pricingInfos.monthlyCondoFee','pricingInfos.period', 'pricingInfos.price', 'pricingInfos.rentalTotalPrice', 'pricingInfos.yearlyIptu',\n",
    "         'publicationType', 'suites', 'title', 'totalAreas', 'unitTypes', 'usableAreas'\n",
    "       ]\n",
    "\n",
    "(\n",
    "      df_imoveis.select(cols)\n",
    "                           .where(\n",
    "                              (F.col(\"unitTypes\").isin(tipos_imoveis)) &\n",
    "                              (F.col(\"pricingInfos.businessType\") == \"RENTAL\")\n",
    "                           )\n",
    ")"
   ]
  }
 ],
 "metadata": {
  "interpreter": {
   "hash": "3556a075bbd99350e89efd66c7151da1cf29c86598df2105d417c263a61f5267"
  },
  "kernelspec": {
   "display_name": "Python 3.10.4 ('venv-cursos')",
   "language": "python",
   "name": "python3"
  },
  "language_info": {
   "codemirror_mode": {
    "name": "ipython",
    "version": 3
   },
   "file_extension": ".py",
   "mimetype": "text/x-python",
   "name": "python",
   "nbconvert_exporter": "python",
   "pygments_lexer": "ipython3",
   "version": "3.10.4"
  },
  "orig_nbformat": 4
 },
 "nbformat": 4,
 "nbformat_minor": 2
}
