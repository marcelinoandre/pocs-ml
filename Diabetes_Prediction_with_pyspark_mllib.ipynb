{
  "cells": [
    {
      "cell_type": "code",
      "execution_count": 49,
      "metadata": {
        "id": "WVfJytL9D4A0"
      },
      "outputs": [
        {
          "data": {
            "text/html": [
              "\n",
              "            <div>\n",
              "                <p><b>SparkSession - in-memory</b></p>\n",
              "                \n",
              "        <div>\n",
              "            <p><b>SparkContext</b></p>\n",
              "\n",
              "            <p><a href=\"http://192.168.0.133:4040\">Spark UI</a></p>\n",
              "\n",
              "            <dl>\n",
              "              <dt>Version</dt>\n",
              "                <dd><code>v3.2.0</code></dd>\n",
              "              <dt>Master</dt>\n",
              "                <dd><code>local[*]</code></dd>\n",
              "              <dt>AppName</dt>\n",
              "                <dd><code>spark</code></dd>\n",
              "            </dl>\n",
              "        </div>\n",
              "        \n",
              "            </div>\n",
              "        "
            ],
            "text/plain": [
              "<pyspark.sql.session.SparkSession at 0x7f252023fbe0>"
            ]
          },
          "execution_count": 49,
          "metadata": {},
          "output_type": "execute_result"
        }
      ],
      "source": [
        "\n",
        "from pyspark.sql import SparkSession, functions as F\n",
        "spark = SparkSession.builder.appName(\"spark\").getOrCreate()\n",
        "\n",
        "from pyspark.ml.feature import VectorAssembler\n",
        "from pyspark.ml.classification import LogisticRegression\n",
        "from sklearn.metrics import classification_report, confusion_matrix\n",
        "from pyspark.ml.classification import LogisticRegressionModel\n",
        "\n",
        "spark"
      ]
    },
    {
      "cell_type": "code",
      "execution_count": 15,
      "metadata": {
        "id": "oNTTjlQBECu0"
      },
      "outputs": [
        {
          "name": "stdout",
          "output_type": "stream",
          "text": [
            "+-----------+-------+-------------+-------------+-------+----+------------------------+---+-------+\n",
            "|Pregnancies|Glucose|BloodPressure|SkinThickness|Insulin| BMI|DiabetesPedigreeFunction|Age|Outcome|\n",
            "+-----------+-------+-------------+-------------+-------+----+------------------------+---+-------+\n",
            "|          2|    138|           62|           35|      0|33.6|                   0.127| 47|      1|\n",
            "|          0|     84|           82|           31|    125|38.2|                   0.233| 23|      0|\n",
            "|          0|    145|            0|            0|      0|44.2|                    0.63| 31|      1|\n",
            "|          0|    135|           68|           42|    250|42.3|                   0.365| 24|      1|\n",
            "|          1|    139|           62|           41|    480|40.7|                   0.536| 21|      0|\n",
            "+-----------+-------+-------------+-------------+-------+----+------------------------+---+-------+\n",
            "only showing top 5 rows\n",
            "\n"
          ]
        }
      ],
      "source": [
        "df = (\n",
        "        spark.read.format('csv')\n",
        "        .options(header = True, inferSchema = True )\n",
        "        .load('data/diabetes.csv')\n",
        ")\n",
        "\n",
        "df.show(5)"
      ]
    },
    {
      "cell_type": "code",
      "execution_count": 11,
      "metadata": {
        "colab": {
          "base_uri": "https://localhost:8080/"
        },
        "id": "yBFt_jobEGNx",
        "outputId": "8499ff02-7c57-4a5c-d706-12d86778319c"
      },
      "outputs": [
        {
          "name": "stdout",
          "output_type": "stream",
          "text": [
            "root\n",
            " |-- Pregnancies: integer (nullable = true)\n",
            " |-- Glucose: integer (nullable = true)\n",
            " |-- BloodPressure: integer (nullable = true)\n",
            " |-- SkinThickness: integer (nullable = true)\n",
            " |-- Insulin: integer (nullable = true)\n",
            " |-- BMI: double (nullable = true)\n",
            " |-- DiabetesPedigreeFunction: double (nullable = true)\n",
            " |-- Age: integer (nullable = true)\n",
            " |-- Outcome: integer (nullable = true)\n",
            "\n"
          ]
        }
      ],
      "source": [
        "df.printSchema()"
      ]
    },
    {
      "cell_type": "code",
      "execution_count": 16,
      "metadata": {
        "colab": {
          "base_uri": "https://localhost:8080/"
        },
        "id": "g9KQ6m59EJlb",
        "outputId": "ad97d804-831e-493b-d780-281567d29ba6"
      },
      "outputs": [
        {
          "name": "stdout",
          "output_type": "stream",
          "text": [
            "+-------+-----+\n",
            "|Outcome|count|\n",
            "+-------+-----+\n",
            "|      1|  684|\n",
            "|      0| 1316|\n",
            "+-------+-----+\n",
            "\n"
          ]
        }
      ],
      "source": [
        "df.groupby('Outcome').count().show()"
      ]
    },
    {
      "cell_type": "code",
      "execution_count": 17,
      "metadata": {
        "colab": {
          "base_uri": "https://localhost:8080/"
        },
        "id": "V9jVOkLiELWj",
        "outputId": "1d40bdd6-befc-4504-90e0-d892925409be"
      },
      "outputs": [
        {
          "name": "stdout",
          "output_type": "stream",
          "text": [
            "+-------+-----------------+------------------+------------------+-----------------+-----------------+------------------+------------------------+------------------+------------------+\n",
            "|summary|      Pregnancies|           Glucose|     BloodPressure|    SkinThickness|          Insulin|               BMI|DiabetesPedigreeFunction|               Age|           Outcome|\n",
            "+-------+-----------------+------------------+------------------+-----------------+-----------------+------------------+------------------------+------------------+------------------+\n",
            "|  count|             2000|              2000|              2000|             2000|             2000|              2000|                    2000|              2000|              2000|\n",
            "|   mean|           3.7035|          121.1825|           69.1455|           20.935|           80.254|32.192999999999984|     0.47092999999999974|           33.0905|             0.342|\n",
            "| stddev|3.306063032730656|32.068635649902916|19.188314815604098|16.10324290992682|111.1805335457595| 8.149900701279762|      0.3235525586811429|11.786423106049496|0.4744982342297426|\n",
            "|    min|                0|                 0|                 0|                0|                0|               0.0|                   0.078|                21|                 0|\n",
            "|    max|               17|               199|               122|              110|              744|              80.6|                    2.42|                81|                 1|\n",
            "+-------+-----------------+------------------+------------------+-----------------+-----------------+------------------+------------------------+------------------+------------------+\n",
            "\n"
          ]
        }
      ],
      "source": [
        "df.describe().show()"
      ]
    },
    {
      "cell_type": "markdown",
      "metadata": {
        "id": "HvlMvuIcEPSA"
      },
      "source": [
        "# Cleaning Data"
      ]
    },
    {
      "cell_type": "code",
      "execution_count": 19,
      "metadata": {
        "colab": {
          "base_uri": "https://localhost:8080/"
        },
        "id": "9pCQED08EM6V",
        "outputId": "bb88eb14-9271-49e1-f6dd-3e046ebc98f0"
      },
      "outputs": [
        {
          "name": "stdout",
          "output_type": "stream",
          "text": [
            "Pregnancies: 0\n",
            "Glucose: 0\n",
            "BloodPressure: 0\n",
            "SkinThickness: 0\n",
            "Insulin: 0\n",
            "BMI: 0\n",
            "DiabetesPedigreeFunction: 0\n",
            "Age: 0\n",
            "Outcome: 0\n"
          ]
        }
      ],
      "source": [
        "for column in df.columns:\n",
        "  print(column+\":\",df[df[column].isNull()].count())"
      ]
    },
    {
      "cell_type": "code",
      "execution_count": 20,
      "metadata": {
        "id": "svISfLZbERdk"
      },
      "outputs": [
        {
          "name": "stdout",
          "output_type": "stream",
          "text": [
            "Glucose: 13\n",
            "BloodPressure: 90\n",
            "SkinThickness: 573\n",
            "Insulin: 956\n",
            "BMI: 28\n"
          ]
        }
      ],
      "source": [
        "def count_zeros():\n",
        "  columns_list =['Glucose','BloodPressure','SkinThickness','Insulin','BMI']\n",
        "  for i in columns_list:\n",
        "    print(i+\":\",df[df[i]==0].count())\n",
        "\n",
        "count_zeros()    "
      ]
    },
    {
      "cell_type": "code",
      "execution_count": 23,
      "metadata": {
        "colab": {
          "base_uri": "https://localhost:8080/"
        },
        "id": "dXCChixFEUYZ",
        "outputId": "c81241d6-d03f-46c9-f39d-2058ff5be629"
      },
      "outputs": [
        {
          "name": "stdout",
          "output_type": "stream",
          "text": [
            "Mean value for Glucose is 121\n",
            "Mean value for BloodPressure is 72\n",
            "Mean value for SkinThickness is 26\n",
            "Mean value for Insulin is 118\n",
            "Mean value for BMI is 32\n"
          ]
        }
      ],
      "source": [
        "for column in df.columns[1:6]:\n",
        "  data = df.agg({column:'mean'}).first()[0]\n",
        "  print(f\"Mean value for {column} is {int(data)}\")\n",
        "  df = df.withColumn(column,F.when(df[column]==0,int(data)).otherwise(df[column]))"
      ]
    },
    {
      "cell_type": "code",
      "execution_count": 24,
      "metadata": {
        "colab": {
          "base_uri": "https://localhost:8080/"
        },
        "id": "EqhM_ausoyzH",
        "outputId": "c1f7bbdc-0d72-41f2-efbb-66e50fb2355b"
      },
      "outputs": [
        {
          "name": "stdout",
          "output_type": "stream",
          "text": [
            "+-------+-----------------+------------------+------------------+------------------+-----------------+------------------+------------------------+------------------+------------------+\n",
            "|summary|      Pregnancies|           Glucose|     BloodPressure|     SkinThickness|          Insulin|               BMI|DiabetesPedigreeFunction|               Age|           Outcome|\n",
            "+-------+-----------------+------------------+------------------+------------------+-----------------+------------------+------------------------+------------------+------------------+\n",
            "|  count|             2000|              2000|              2000|              2000|             2000|              2000|                    2000|              2000|              2000|\n",
            "|   mean|           3.7035|           121.969|           72.2505|            26.665|          118.494|32.640999999999984|     0.47092999999999974|           33.0905|             0.342|\n",
            "| stddev|3.306063032730656|30.533214334373536|11.970354817098098|10.054218948249018|88.41897942162065| 7.190541769955356|      0.3235525586811429|11.786423106049496|0.4744982342297426|\n",
            "|    min|                0|                44|                24|                 7|               14|              18.2|                   0.078|                21|                 0|\n",
            "|    max|               17|               199|               122|               110|              744|              80.6|                    2.42|                81|                 1|\n",
            "+-------+-----------------+------------------+------------------+------------------+-----------------+------------------+------------------------+------------------+------------------+\n",
            "\n"
          ]
        }
      ],
      "source": [
        "df.describe().show()"
      ]
    },
    {
      "cell_type": "code",
      "execution_count": 26,
      "metadata": {
        "colab": {
          "base_uri": "https://localhost:8080/"
        },
        "id": "ab-xB4v1EWLP",
        "outputId": "94a4095f-8043-4b14-ef77-45eebf7b3381"
      },
      "outputs": [
        {
          "name": "stdout",
          "output_type": "stream",
          "text": [
            "+-----------+-------+-------------+-------------+-------+----+------------------------+---+-------+\n",
            "|Pregnancies|Glucose|BloodPressure|SkinThickness|Insulin| BMI|DiabetesPedigreeFunction|Age|Outcome|\n",
            "+-----------+-------+-------------+-------------+-------+----+------------------------+---+-------+\n",
            "|          2|    138|           62|           35|     80|33.6|                   0.127| 47|      1|\n",
            "|          0|     84|           82|           31|    125|38.2|                   0.233| 23|      0|\n",
            "|          0|    145|           69|           20|     80|44.2|                    0.63| 31|      1|\n",
            "|          0|    135|           68|           42|    250|42.3|                   0.365| 24|      1|\n",
            "|          1|    139|           62|           41|    480|40.7|                   0.536| 21|      0|\n",
            "+-----------+-------+-------------+-------------+-------+----+------------------------+---+-------+\n",
            "only showing top 5 rows\n",
            "\n"
          ]
        }
      ],
      "source": [
        "df.show(5)"
      ]
    },
    {
      "cell_type": "markdown",
      "metadata": {
        "id": "eoGkr2CUEZtu"
      },
      "source": [
        "# Correlation"
      ]
    },
    {
      "cell_type": "code",
      "execution_count": 28,
      "metadata": {
        "colab": {
          "base_uri": "https://localhost:8080/"
        },
        "id": "JP2PSXHaEXqN",
        "outputId": "f10394bb-bfb8-46aa-b5c8-955f84c195da"
      },
      "outputs": [
        {
          "name": "stdout",
          "output_type": "stream",
          "text": [
            "correlation to outcome for Pregnancies is 0.22443699263363961\n",
            "correlation to outcome for Glucose is 0.48796646527321064\n",
            "correlation to outcome for BloodPressure is 0.17171333286446713\n",
            "correlation to outcome for SkinThickness is 0.1659010662889893\n",
            "correlation to outcome for Insulin is 0.1711763270226193\n",
            "correlation to outcome for BMI is 0.2827927569760082\n",
            "correlation to outcome for DiabetesPedigreeFunction is 0.1554590791569403\n",
            "correlation to outcome for Age is 0.23650924717620253\n",
            "correlation to outcome for Outcome is 1.0\n"
          ]
        }
      ],
      "source": [
        "for column in df.columns:\n",
        "  print(f\"correlation to outcome for {column} is {df.stat.corr('Outcome',column)}\")"
      ]
    },
    {
      "cell_type": "markdown",
      "metadata": {
        "id": "uhGHISNWEfHG"
      },
      "source": [
        "# Feature Selection"
      ]
    },
    {
      "cell_type": "code",
      "execution_count": 34,
      "metadata": {
        "id": "Vacw78TQEceW"
      },
      "outputs": [
        {
          "name": "stdout",
          "output_type": "stream",
          "text": [
            "root\n",
            " |-- Pregnancies: integer (nullable = true)\n",
            " |-- Glucose: integer (nullable = true)\n",
            " |-- BloodPressure: integer (nullable = true)\n",
            " |-- SkinThickness: integer (nullable = true)\n",
            " |-- Insulin: integer (nullable = true)\n",
            " |-- BMI: double (nullable = true)\n",
            " |-- DiabetesPedigreeFunction: double (nullable = true)\n",
            " |-- Age: integer (nullable = true)\n",
            " |-- Outcome: integer (nullable = true)\n",
            " |-- features: vector (nullable = true)\n",
            "\n"
          ]
        }
      ],
      "source": [
        "assembler = VectorAssembler(\n",
        "    inputCols=[\n",
        "        'Pregnancies',\n",
        "        'Glucose',\n",
        "        'BloodPressure',\n",
        "        'SkinThickness',\n",
        "        'Insulin',\n",
        "        'BMI',\n",
        "        'DiabetesPedigreeFunction',\n",
        "        'Age'\n",
        "        ],\n",
        "    outputCol='features')\n",
        "output_data = assembler.transform(df)\n",
        "\n",
        "output_data.printSchema()"
      ]
    },
    {
      "cell_type": "code",
      "execution_count": 36,
      "metadata": {
        "colab": {
          "base_uri": "https://localhost:8080/"
        },
        "id": "y_eS6oLeEiub",
        "outputId": "6bcb9bc0-8340-4a07-b416-8278c2543634"
      },
      "outputs": [
        {
          "name": "stdout",
          "output_type": "stream",
          "text": [
            "+-----------+-------+-------------+-------------+-------+----+------------------------+---+-------+--------------------+\n",
            "|Pregnancies|Glucose|BloodPressure|SkinThickness|Insulin| BMI|DiabetesPedigreeFunction|Age|Outcome|            features|\n",
            "+-----------+-------+-------------+-------------+-------+----+------------------------+---+-------+--------------------+\n",
            "|          2|    138|           62|           35|     80|33.6|                   0.127| 47|      1|[2.0,138.0,62.0,3...|\n",
            "|          0|     84|           82|           31|    125|38.2|                   0.233| 23|      0|[0.0,84.0,82.0,31...|\n",
            "|          0|    145|           69|           20|     80|44.2|                    0.63| 31|      1|[0.0,145.0,69.0,2...|\n",
            "|          0|    135|           68|           42|    250|42.3|                   0.365| 24|      1|[0.0,135.0,68.0,4...|\n",
            "|          1|    139|           62|           41|    480|40.7|                   0.536| 21|      0|[1.0,139.0,62.0,4...|\n",
            "+-----------+-------+-------------+-------------+-------+----+------------------------+---+-------+--------------------+\n",
            "only showing top 5 rows\n",
            "\n"
          ]
        }
      ],
      "source": [
        "output_data.show(5)"
      ]
    },
    {
      "cell_type": "markdown",
      "metadata": {
        "id": "Cp2zWgYrEmTm"
      },
      "source": [
        "# Build & Train Model"
      ]
    },
    {
      "cell_type": "code",
      "execution_count": 37,
      "metadata": {
        "id": "Fm2zPQuMEkRm"
      },
      "outputs": [],
      "source": [
        "final_data = output_data.select('features','Outcome')"
      ]
    },
    {
      "cell_type": "code",
      "execution_count": 38,
      "metadata": {
        "colab": {
          "base_uri": "https://localhost:8080/"
        },
        "id": "MowPUiNFEogQ",
        "outputId": "70a0a1b8-96b6-4216-e3a7-84af6d46bb23"
      },
      "outputs": [
        {
          "name": "stdout",
          "output_type": "stream",
          "text": [
            "root\n",
            " |-- features: vector (nullable = true)\n",
            " |-- Outcome: integer (nullable = true)\n",
            "\n"
          ]
        }
      ],
      "source": [
        "final_data.printSchema()"
      ]
    },
    {
      "cell_type": "code",
      "execution_count": 39,
      "metadata": {
        "id": "IE_BvoguEp9k"
      },
      "outputs": [],
      "source": [
        "train , test = final_data.randomSplit([0.7,0.3])\n",
        "models = LogisticRegression(labelCol='Outcome')\n",
        "model = models.fit(train)"
      ]
    },
    {
      "cell_type": "code",
      "execution_count": 40,
      "metadata": {
        "id": "WVTutBxLErl9"
      },
      "outputs": [],
      "source": [
        "summary = model.summary"
      ]
    },
    {
      "cell_type": "code",
      "execution_count": 42,
      "metadata": {
        "colab": {
          "base_uri": "https://localhost:8080/"
        },
        "id": "h9GoXcGJEtB_",
        "outputId": "08e027d5-c6f9-43bb-874f-c07b478c0237"
      },
      "outputs": [
        {
          "name": "stdout",
          "output_type": "stream",
          "text": [
            "+-------+------------------+-------------------+\n",
            "|summary|           Outcome|         prediction|\n",
            "+-------+------------------+-------------------+\n",
            "|  count|              1379|               1379|\n",
            "|   mean|0.3531544597534445| 0.2726613488034808|\n",
            "| stddev|0.4781235835803011|0.44548967924944477|\n",
            "|    min|               0.0|                0.0|\n",
            "|    max|               1.0|                1.0|\n",
            "+-------+------------------+-------------------+\n",
            "\n"
          ]
        }
      ],
      "source": [
        "summary.predictions.describe().show()"
      ]
    },
    {
      "cell_type": "markdown",
      "metadata": {
        "id": "zK-NG2naEwQQ"
      },
      "source": [
        "# Evaluation & Test Model"
      ]
    },
    {
      "cell_type": "code",
      "execution_count": 43,
      "metadata": {
        "id": "-4qSVvynEuUr"
      },
      "outputs": [],
      "source": [
        "from pyspark.ml.evaluation import BinaryClassificationEvaluator\n",
        "predictions = model.evaluate(test)"
      ]
    },
    {
      "cell_type": "code",
      "execution_count": 44,
      "metadata": {
        "colab": {
          "base_uri": "https://localhost:8080/"
        },
        "id": "QJPT2jjIEzPT",
        "outputId": "5a929a4d-de87-44e3-dc08-277c34ecf624"
      },
      "outputs": [
        {
          "name": "stdout",
          "output_type": "stream",
          "text": [
            "+--------------------+-------+--------------------+--------------------+----------+\n",
            "|            features|Outcome|       rawPrediction|         probability|prediction|\n",
            "+--------------------+-------+--------------------+--------------------+----------+\n",
            "|[0.0,57.0,60.0,20...|      0|[4.24734791506709...|[0.98589955213654...|       0.0|\n",
            "|[0.0,57.0,60.0,20...|      0|[4.24734791506709...|[0.98589955213654...|       0.0|\n",
            "|[0.0,67.0,76.0,20...|      0|[2.66902590609384...|[0.93517400335341...|       0.0|\n",
            "|[0.0,73.0,69.0,20...|      0|[4.14119553073682...|[0.98434514547139...|       0.0|\n",
            "|[0.0,74.0,52.0,10...|      0|[3.60697345912582...|[0.97358295167062...|       0.0|\n",
            "|[0.0,78.0,88.0,29...|      0|[2.72860249859431...|[0.93869346299403...|       0.0|\n",
            "|[0.0,84.0,64.0,22...|      0|[2.53008371323592...|[0.92622407398143...|       0.0|\n",
            "|[0.0,84.0,64.0,22...|      0|[2.53008371323592...|[0.92622407398143...|       0.0|\n",
            "|[0.0,84.0,82.0,31...|      0|[2.70391384474342...|[0.93725719632468...|       0.0|\n",
            "|[0.0,84.0,82.0,31...|      0|[2.70391384474342...|[0.93725719632468...|       0.0|\n",
            "|[0.0,91.0,68.0,32...|      0|[2.34553463759872...|[0.91257864170953...|       0.0|\n",
            "|[0.0,93.0,60.0,20...|      0|[2.43715279136204...|[0.91961686866988...|       0.0|\n",
            "|[0.0,93.0,100.0,3...|      0|[1.23783230844133...|[0.77518647080489...|       0.0|\n",
            "|[0.0,94.0,70.0,27...|      0|[1.84185775031617...|[0.86316827216830...|       0.0|\n",
            "|[0.0,94.0,70.0,27...|      0|[1.84185775031617...|[0.86316827216830...|       0.0|\n",
            "|[0.0,97.0,64.0,36...|      0|[2.03459713497145...|[0.88438196855145...|       0.0|\n",
            "|[0.0,97.0,64.0,36...|      0|[2.03459713497145...|[0.88438196855145...|       0.0|\n",
            "|[0.0,97.0,64.0,36...|      0|[2.03459713497145...|[0.88438196855145...|       0.0|\n",
            "|[0.0,98.0,82.0,15...|      0|[2.86150222603838...|[0.94591021104284...|       0.0|\n",
            "|[0.0,99.0,69.0,20...|      0|[2.93271094897261...|[0.94943996935965...|       0.0|\n",
            "+--------------------+-------+--------------------+--------------------+----------+\n",
            "only showing top 20 rows\n",
            "\n"
          ]
        }
      ],
      "source": [
        "predictions.predictions.show(20)"
      ]
    },
    {
      "cell_type": "code",
      "execution_count": 45,
      "metadata": {
        "colab": {
          "base_uri": "https://localhost:8080/"
        },
        "id": "_orUusQlE03v",
        "outputId": "9eccbaab-e874-48ef-f693-137fc225c135"
      },
      "outputs": [
        {
          "data": {
            "text/plain": [
              "0.8290872521789096"
            ]
          },
          "execution_count": 45,
          "metadata": {},
          "output_type": "execute_result"
        }
      ],
      "source": [
        "evaluator = BinaryClassificationEvaluator(rawPredictionCol='rawPrediction', labelCol='Outcome')\n",
        "evaluator.evaluate(model.transform(test))"
      ]
    },
    {
      "cell_type": "code",
      "execution_count": 46,
      "metadata": {
        "colab": {
          "base_uri": "https://localhost:8080/"
        },
        "id": "wS4pa8SxeqOl",
        "outputId": "26f5f84f-3e3b-43d1-845f-d4057fdec598"
      },
      "outputs": [
        {
          "name": "stdout",
          "output_type": "stream",
          "text": [
            "Test Error = 0.170913\n"
          ]
        }
      ],
      "source": [
        "print(\"Test Error = %g\" % (1.0 - evaluator.evaluate(model.transform(test))))"
      ]
    },
    {
      "cell_type": "code",
      "execution_count": 47,
      "metadata": {
        "colab": {
          "base_uri": "https://localhost:8080/"
        },
        "id": "wQ9rjmmcg949",
        "outputId": "cae4e839-0f4f-4799-a03e-eabf83b99474"
      },
      "outputs": [
        {
          "data": {
            "text/plain": [
              "pyspark.sql.dataframe.DataFrame"
            ]
          },
          "execution_count": 47,
          "metadata": {},
          "output_type": "execute_result"
        }
      ],
      "source": [
        "type(predictions.predictions)"
      ]
    },
    {
      "cell_type": "code",
      "execution_count": 51,
      "metadata": {
        "colab": {
          "base_uri": "https://localhost:8080/"
        },
        "id": "uFr6SaEge_UH",
        "outputId": "80f7aaa6-151f-4ef9-dc3d-e8438a8f87a5"
      },
      "outputs": [
        {
          "name": "stderr",
          "output_type": "stream",
          "text": [
            "/home/andre/bigdata/spark/python/lib/pyspark.zip/pyspark/sql/context.py:125: FutureWarning: Deprecated in 3.0.0. Use SparkSession.builder.getOrCreate() instead.\n"
          ]
        },
        {
          "name": "stdout",
          "output_type": "stream",
          "text": [
            "              precision    recall  f1-score   support\n",
            "\n",
            "           0       0.80      0.88      0.84       424\n",
            "           1       0.68      0.53      0.60       197\n",
            "\n",
            "    accuracy                           0.77       621\n",
            "   macro avg       0.74      0.71      0.72       621\n",
            "weighted avg       0.76      0.77      0.76       621\n",
            "\n",
            "[[375  49]\n",
            " [ 92 105]]\n"
          ]
        }
      ],
      "source": [
        "y_true = predictions.predictions.select(['Outcome']).collect()\n",
        "y_pred = predictions.predictions.select(['prediction']).collect()\n",
        "\n",
        "print(classification_report(y_true, y_pred))\n",
        "print(confusion_matrix(y_true,y_pred))\n",
        "\n"
      ]
    },
    {
      "cell_type": "code",
      "execution_count": 54,
      "metadata": {
        "id": "Re5IH6aFE3D1"
      },
      "outputs": [],
      "source": [
        "model.save(\"data/diabete-model\")"
      ]
    },
    {
      "cell_type": "code",
      "execution_count": 55,
      "metadata": {
        "id": "HgEJFzhTE43q"
      },
      "outputs": [],
      "source": [
        "model = LogisticRegressionModel.load('data/diabete-model')"
      ]
    },
    {
      "cell_type": "code",
      "execution_count": 56,
      "metadata": {
        "id": "q5QQ_jq_E6bX"
      },
      "outputs": [
        {
          "data": {
            "text/plain": [
              "pyspark.ml.classification.LogisticRegressionModel"
            ]
          },
          "execution_count": 56,
          "metadata": {},
          "output_type": "execute_result"
        }
      ],
      "source": [
        "type(model)"
      ]
    }
  ],
  "metadata": {
    "colab": {
      "name": "Diabetes Prediction with pyspark mllib.ipynb",
      "provenance": []
    },
    "interpreter": {
      "hash": "31f2aee4e71d21fbe5cf8b01ff0e069b9275f58929596ceb00d14d90e3e16cd6"
    },
    "kernelspec": {
      "display_name": "Python 3.9.7 64-bit",
      "language": "python",
      "name": "python3"
    },
    "language_info": {
      "codemirror_mode": {
        "name": "ipython",
        "version": 3
      },
      "file_extension": ".py",
      "mimetype": "text/x-python",
      "name": "python",
      "nbconvert_exporter": "python",
      "pygments_lexer": "ipython3",
      "version": "3.9.7"
    }
  },
  "nbformat": 4,
  "nbformat_minor": 0
}
